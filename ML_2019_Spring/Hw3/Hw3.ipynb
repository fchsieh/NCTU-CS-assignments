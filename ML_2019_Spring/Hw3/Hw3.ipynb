{
 "cells": [
  {
   "cell_type": "code",
   "execution_count": 1,
   "metadata": {
    "ExecuteTime": {
     "end_time": "2019-03-31T16:03:30.738255Z",
     "start_time": "2019-03-31T16:03:30.115655Z"
    }
   },
   "outputs": [],
   "source": [
    "from math import cos, log, pi, sqrt\n",
    "\n",
    "import matplotlib.pyplot as plt\n",
    "import numpy as np\n",
    "from scipy.stats import norm\n",
    "\n",
    "import MatOP"
   ]
  },
  {
   "cell_type": "code",
   "execution_count": 2,
   "metadata": {
    "ExecuteTime": {
     "end_time": "2019-03-31T16:03:30.746148Z",
     "start_time": "2019-03-31T16:03:30.740187Z"
    }
   },
   "outputs": [],
   "source": [
    "# Random number generator\n",
    "def BoxMuller(mean, var):\n",
    "    # y = x*sigma + var\n",
    "    # => y = sqrt(-2*ln(a)) * cos(2*pi*b) * sigma + mu\n",
    "    a = np.random.uniform()\n",
    "    b = np.random.uniform()\n",
    "    sigma = np.sqrt(var)\n",
    "\n",
    "    y = sqrt(-2 * log(a)) * cos(2 * pi * b) * sigma + mean\n",
    "    return y\n",
    "\n",
    "\n",
    "def printGaussianDist(mean, var):\n",
    "    Gaussian = []\n",
    "    for i in range(10000):\n",
    "        Gaussian.append(BoxMuller(mean, var))\n",
    "    plt.hist(Gaussian, 100)\n",
    "    # plt.savefig(\"Gaussian\")\n",
    "    plt.show()\n",
    "    plt.clf()"
   ]
  },
  {
   "cell_type": "code",
   "execution_count": 3,
   "metadata": {
    "ExecuteTime": {
     "end_time": "2019-03-31T16:03:31.129124Z",
     "start_time": "2019-03-31T16:03:30.748138Z"
    }
   },
   "outputs": [
    {
     "data": {
      "image/png": "[encoded data removed]",
      "text/plain": [
       "<Figure size 432x288 with 1 Axes>"
      ]
     },
     "metadata": {
      "needs_background": "light"
     },
     "output_type": "display_data"
    },
    {
     "data": {
      "text/plain": [
       "<Figure size 432x288 with 0 Axes>"
      ]
     },
     "metadata": {},
     "output_type": "display_data"
    }
   ],
   "source": [
    "printGaussianDist(0, 1)"
   ]
  },
  {
   "cell_type": "code",
   "execution_count": 4,
   "metadata": {
    "ExecuteTime": {
     "end_time": "2019-03-31T16:03:31.140090Z",
     "start_time": "2019-03-31T16:03:31.131121Z"
    }
   },
   "outputs": [],
   "source": [
    "def polyBasis(n, a, w):\n",
    "    e = BoxMuller(0, a)\n",
    "    x = np.random.uniform(-10, 10)\n",
    "    y = 0\n",
    "    for i in range(n):\n",
    "        y += x**i * w[i]\n",
    "    y += e\n",
    "    return [x, y]\n",
    "\n",
    "\n",
    "def printPolyBasis(n, a, w):\n",
    "    x = []\n",
    "    y = []\n",
    "    for _ in range(10000):\n",
    "        res = polyBasis(n, a, w)\n",
    "        x.append(res[0])\n",
    "        y.append(res[1])\n",
    "    plt.scatter(x, y)\n",
    "    # plt.savefig(\"Poly\")\n",
    "    plt.show()\n",
    "    plt.clf()"
   ]
  },
  {
   "cell_type": "code",
   "execution_count": 5,
   "metadata": {
    "ExecuteTime": {
     "end_time": "2019-03-31T16:03:31.589889Z",
     "start_time": "2019-03-31T16:03:31.142098Z"
    }
   },
   "outputs": [
    {
     "data": {
      "image/png": "[encoded data removed]",
      "text/plain": [
       "<Figure size 432x288 with 1 Axes>"
      ]
     },
     "metadata": {
      "needs_background": "light"
     },
     "output_type": "display_data"
    },
    {
     "data": {
      "text/plain": [
       "<Figure size 432x288 with 0 Axes>"
      ]
     },
     "metadata": {},
     "output_type": "display_data"
    }
   ],
   "source": [
    "printPolyBasis(4, 10, [1, 2, 3, 4])"
   ]
  },
  {
   "cell_type": "code",
   "execution_count": 6,
   "metadata": {
    "ExecuteTime": {
     "end_time": "2019-03-31T16:03:31.599869Z",
     "start_time": "2019-03-31T16:03:31.590887Z"
    }
   },
   "outputs": [],
   "source": [
    "from math import inf\n",
    "\n",
    "\n",
    "# Sequential Estimator\n",
    "def WelfordEstimate(mean, var):  # Using online algorithm\n",
    "    logStack = []\n",
    "    print(\"Data point source function: N(%f, %f)\\n\" % (mean, var))\n",
    "    Xbar = inf\n",
    "    prev_Xbar = -inf\n",
    "    sigma = inf\n",
    "    prev_Sigma = -inf\n",
    "    iters = 1\n",
    "    while abs(Xbar - prev_Xbar) >= 10**-4 or abs(sigma - prev_Sigma) >= 10**-4:\n",
    "        # set a maximum iteration\n",
    "        if iters > 100000:\n",
    "            break\n",
    "\n",
    "        newData = BoxMuller(mean, var)\n",
    "        # initial condition\n",
    "        if iters == 1:\n",
    "            Xbar = newData\n",
    "            sigma = 0\n",
    "        else:\n",
    "            prev_Xbar = Xbar\n",
    "            prev_Sigma = sigma\n",
    "            Xbar = prev_Xbar + (newData - prev_Xbar) / iters\n",
    "            sigma = prev_Sigma + (\n",
    "                (newData - prev_Xbar) * (newData - Xbar) - prev_Sigma) / iters\n",
    "        if iters % 1000 == 0:\n",
    "            logStack.append([iters, newData, Xbar, sigma])\n",
    "        iters += 1\n",
    "    logStack.append([iters, newData, Xbar, sigma])  # final result\n",
    "    for i in range(len(logStack)):\n",
    "        print(\"[%d] Add data point: %f\" % (logStack[i][0], logStack[i][1]))\n",
    "        print(\"Mean = %f, Variance = %f\" % (logStack[i][2], logStack[i][3]))"
   ]
  },
  {
   "cell_type": "markdown",
   "metadata": {},
   "source": [
    "$$\\bar{x}_n = \\bar{x}_{n-1} + \\frac{x_n - \\bar{x}_{n-1}}{n}$$\n",
    "$$\\sigma^2_n = \\sigma^2_{n-1} + \\frac{(x_n - \\bar{x}_{n-1})(x_n - \\bar{x}_n) - \\sigma^2_{n-1}}{n}$$"
   ]
  },
  {
   "cell_type": "code",
   "execution_count": 7,
   "metadata": {
    "ExecuteTime": {
     "end_time": "2019-03-31T16:03:31.726523Z",
     "start_time": "2019-03-31T16:03:31.602854Z"
    }
   },
   "outputs": [
    {
     "name": "stdout",
     "output_type": "stream",
     "text": [
      "Data point source function: N(3.000000, 5.000000)\n",
      "\n",
      "[1000] Add data point: 0.638552\n",
      "Mean = 2.995231, Variance = 5.116187\n",
      "[2000] Add data point: 7.759440\n",
      "Mean = 3.029680, Variance = 4.980532\n",
      "[3000] Add data point: 2.803813\n",
      "Mean = 3.001409, Variance = 4.880862\n",
      "[4000] Add data point: 2.866797\n",
      "Mean = 3.012543, Variance = 4.938203\n",
      "[5000] Add data point: 4.797139\n",
      "Mean = 3.011512, Variance = 4.921341\n",
      "[6000] Add data point: 3.164240\n",
      "Mean = 3.010395, Variance = 4.947305\n",
      "[7000] Add data point: 3.493682\n",
      "Mean = 2.993605, Variance = 4.925073\n",
      "[8000] Add data point: -0.915660\n",
      "Mean = 2.999430, Variance = 4.969189\n",
      "[9000] Add data point: 2.107322\n",
      "Mean = 2.989309, Variance = 4.982172\n",
      "[10000] Add data point: 0.832789\n",
      "Mean = 2.996000, Variance = 4.988765\n",
      "[11000] Add data point: 2.175012\n",
      "Mean = 2.991709, Variance = 5.012433\n",
      "[12000] Add data point: 5.196102\n",
      "Mean = 2.996079, Variance = 5.059098\n",
      "[13000] Add data point: 2.446731\n",
      "Mean = 2.987926, Variance = 5.046550\n",
      "[14000] Add data point: 2.370694\n",
      "Mean = 2.986410, Variance = 5.037116\n",
      "[15000] Add data point: -0.256347\n",
      "Mean = 2.984056, Variance = 5.032986\n",
      "[16000] Add data point: 6.199493\n",
      "Mean = 2.986413, Variance = 5.037597\n",
      "[17000] Add data point: 2.031747\n",
      "Mean = 2.989358, Variance = 5.046693\n",
      "[18000] Add data point: 3.972075\n",
      "Mean = 2.987065, Variance = 5.048267\n",
      "[18172] Add data point: 4.782678\n",
      "Mean = 2.987683, Variance = 5.038303\n"
     ]
    }
   ],
   "source": [
    "WelfordEstimate(3, 5)"
   ]
  },
  {
   "cell_type": "code",
   "execution_count": 8,
   "metadata": {
    "ExecuteTime": {
     "end_time": "2019-03-31T16:03:31.733506Z",
     "start_time": "2019-03-31T16:03:31.728519Z"
    }
   },
   "outputs": [],
   "source": [
    "# 3. Baysian Linear regression"
   ]
  }
 ],
 "metadata": {
  "kernelspec": {
   "display_name": "Python 3",
   "language": "python",
   "name": "python3"
  },
  "language_info": {
   "codemirror_mode": {
    "name": "ipython",
    "version": 3
   },
   "file_extension": ".py",
   "mimetype": "text/x-python",
   "name": "python",
   "nbconvert_exporter": "python",
   "pygments_lexer": "ipython3",
   "version": "3.7.1"
  }
 },
 "nbformat": 4,
 "nbformat_minor": 2
}
