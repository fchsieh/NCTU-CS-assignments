{
 "cells": [
  {
   "cell_type": "code",
   "execution_count": 2,
   "metadata": {},
   "outputs": [],
   "source": [
    "import math\n",
    "import struct\n",
    "from math import cos, log, pi, sin, sqrt\n",
    "\n",
    "import matplotlib.pyplot as plt\n",
    "import numpy as np\n",
    "import pandas as pd\n",
    "from sklearn.metrics import confusion_matrix\n",
    "\n",
    "plt.rcParams.update({\"font.size\": 20})"
   ]
  },
  {
   "cell_type": "code",
   "execution_count": 3,
   "metadata": {},
   "outputs": [],
   "source": [
    "# Utils\n",
    "def BoxMuller(mean, var):\n",
    "    # y = x*sigma + var\n",
    "    # => y = sqrt(-2*ln(a)) * cos(2*pi*b) * sigma + mu\n",
    "    a = np.random.uniform()\n",
    "    b = np.random.uniform()\n",
    "    sigma = sqrt(var)\n",
    "\n",
    "    return sqrt(-2 * log(a)) * sin(2 * pi * b) * sigma + mean\n",
    "\n",
    "\n",
    "def buildFeatureMat(mean, var, N):\n",
    "    # [1 x y]\n",
    "    generate_x = []\n",
    "    generate_y = []\n",
    "    init_x = BoxMuller(mean, var)\n",
    "    init_y = BoxMuller(mean, var)\n",
    "    generate_x.append(init_x)\n",
    "    generate_y.append(init_y)\n",
    "    feature = np.array([1, init_x, init_y])\n",
    "\n",
    "    for _ in range(N - 1):\n",
    "        new_x = BoxMuller(mean, var)\n",
    "        new_y = BoxMuller(mean, var)\n",
    "        generate_x.append(new_x)\n",
    "        generate_y.append(new_y)\n",
    "        newdata = np.array([1, new_x, new_y])\n",
    "        feature = np.vstack((feature, newdata))\n",
    "    return feature, generate_x, generate_y\n",
    "\n",
    "\n",
    "def safe_ln(x):\n",
    "    return np.log(np.where(x > 1e-14, x, 1e-14))"
   ]
  },
  {
   "cell_type": "code",
   "execution_count": 4,
   "metadata": {},
   "outputs": [],
   "source": [
    "# Part 1: Logistic Regression\n",
    "def sigmoid(x):\n",
    "    # vectorized sigmoid\n",
    "    return 1 / (1 + np.exp(-x))\n",
    "\n",
    "\n",
    "def predict(feature, weight):\n",
    "    return sigmoid(feature.dot(weight))\n",
    "\n",
    "\n",
    "# instead of using LSE, we use Cross Entropy as loss function here\n",
    "def logloss(feature, label, w):\n",
    "    \"\"\"\n",
    "    N = 50+50 = 100\n",
    "    Feature matrix: 100 x 3\n",
    "    label(0 or 1): 100 x 1\n",
    "    weights: 3 x 1\n",
    "    h(prediction): 100 x 1\n",
    "    \"\"\"\n",
    "    h = predict(feature, w)\n",
    "    m = len(label)\n",
    "    cost = np.asscalar(np.dot(-label.T, safe_ln(h)) - np.dot((1 - label).T, safe_ln(1 - h)))\n",
    "    cost = cost / m\n",
    "    return cost\n",
    "\n",
    "\n",
    "def updateW(feature, label, w, learn_rate):\n",
    "    \"\"\"\n",
    "    Feature: 100 x 3\n",
    "    label: 100 x 1\n",
    "    weights: 3 x 1\n",
    "    learning rate: scalar\n",
    "    \"\"\"\n",
    "    h = predict(feature, w)  # 100 x 1\n",
    "    gradient = np.dot((h - label).T, feature)  # 1 x 100 x 100 x 3 => 1 x 3\n",
    "\n",
    "    return w - learn_rate * gradient.T\n",
    "\n",
    "\n",
    "def GD(feature, label, lr=1, iters=1000):\n",
    "    # initialize weights:\n",
    "    cost = 0\n",
    "    w = np.zeros((3, 1))\n",
    "    cost_log = []\n",
    "    for i in range(iters):\n",
    "        prev_cost = cost\n",
    "        w = updateW(feature, label, w, lr)\n",
    "        cost = logloss(feature, label, w)\n",
    "        if i >= 100 and abs(cost - prev_cost) <= 1e-2:\n",
    "            break\n",
    "        cost_log.append(cost)\n",
    "    return w, cost_log\n",
    "\n",
    "\n",
    "def genMatD(d):\n",
    "    D = np.eye(len(d))\n",
    "    for i in range(len(d)):\n",
    "        D[i, i] = d[i]\n",
    "    return D\n",
    "\n",
    "\n",
    "def Newton(feature, label, lr=1, iters=1000):\n",
    "    \"\"\"\n",
    "    weight: 3 x 1\n",
    "    Feature: 100 x 3\n",
    "    label: 100 x 1\n",
    "    Hessian: 3 x 3\n",
    "    gradient: 3 x 1\n",
    "    \"\"\"\n",
    "    w = np.zeros((3, 1))\n",
    "    cost = 0\n",
    "    cost_log = []\n",
    "\n",
    "    for i in range(iters):\n",
    "        prev_cost = cost\n",
    "        h = predict(feature, w)\n",
    "\n",
    "        # Calculate Gradient\n",
    "        gradient = np.dot(feature.T, (h - label))\n",
    "\n",
    "        # Calculate Hessian\n",
    "        D = genMatD(np.dot(genMatD(h), 1 - h))\n",
    "        Hessian = np.dot(feature.T.dot(D), feature)\n",
    "\n",
    "        # Update weight\n",
    "        try:\n",
    "            delta = np.linalg.inv(Hessian).dot(gradient)\n",
    "        except:\n",
    "            delta = gradient\n",
    "        w = w - delta * lr\n",
    "\n",
    "        cost = logloss(feature, label, w)\n",
    "        cost_log.append(cost)\n",
    "        if i >= 100 and abs(cost - prev_cost) <= 1e-2:\n",
    "            break\n",
    "\n",
    "    return w, cost_log"
   ]
  },
  {
   "cell_type": "code",
   "execution_count": 5,
   "metadata": {},
   "outputs": [],
   "source": [
    "def LogisticReg(m1, v1, m2, v2, N, a=1):\n",
    "    # Generate data\n",
    "    D1_feature, D1_x, D1_y = buildFeatureMat(m1, v1, N)\n",
    "    D2_feature, D2_x, D2_y = buildFeatureMat(m2, v2, N)\n",
    "    Data_x = D1_x + D2_x\n",
    "    Data_y = D1_y + D2_y\n",
    "    Data_feature = np.vstack((D1_feature, D2_feature))\n",
    "    D1_label = np.zeros((N, 1))\n",
    "    D2_label = np.ones((N, 1))\n",
    "    Data_label = np.vstack((D1_label, D2_label))\n",
    "\n",
    "    # Visualize and output result\n",
    "    # Ground Truth\n",
    "    ground_truth = Data_label.flatten()\n",
    "    plt.figure(figsize=(20, 5))\n",
    "    plt.subplot(1, 3, 1)\n",
    "    plt.title(\"Ground Truth\")\n",
    "    for x, y in zip(D1_x, D1_y):\n",
    "        plt.scatter(x, y, c=\"red\")\n",
    "    for x, y in zip(D2_x, D2_y):\n",
    "        plt.scatter(x, y, c=\"blue\")\n",
    "\n",
    "    # GD:\n",
    "    print(\"Gradient descent:\\n\")\n",
    "    weight, cost_log = GD(Data_feature, Data_label, lr=a)\n",
    "\n",
    "    print(\"w:\")\n",
    "    for w in weight:\n",
    "        print(\" %10f\" % w)\n",
    "\n",
    "    # Classify predict result\n",
    "    pred_label = Data_feature.dot(weight)\n",
    "    pred_label = sigmoid(pred_label.flatten())\n",
    "    pred_label[pred_label >= 0.5] = 1\n",
    "    pred_label[pred_label < 0.5] = 0\n",
    "\n",
    "    # Print cm and specificity, sensitivity\n",
    "    print(\"\\nConfusion Matrix:\")\n",
    "    cm = confusion_matrix(ground_truth, pred_label)\n",
    "    print(cm)\n",
    "    print(\"\\nSensitivity (Successfully predict cluster 1):\", cm[0, 0] / (cm[0, 0] + cm[0, 1]))\n",
    "    print(\"Specificity (Successfully predict cluster 2):\", cm[1, 1] / (cm[1, 0] + cm[1, 1]))\n",
    "\n",
    "    # plot predict result\n",
    "    plt.subplot(1, 3, 2)\n",
    "    plt.title(\"Gradient Descent\")\n",
    "\n",
    "    for i in range(len(Data_x)):\n",
    "        if pred_label[i] == 0:\n",
    "            plt.scatter(Data_x[i], Data_y[i], c=\"red\", label=\"cluster 1\")\n",
    "        else:\n",
    "            plt.scatter(Data_x[i], Data_y[i], c=\"blue\", label=\"cluster 2\")\n",
    "\n",
    "    print(\"-------------------------------------\")\n",
    "\n",
    "    # Newton's\n",
    "    print(\"Newton's method:\")\n",
    "    newton_weight, new_cost_log = Newton(Data_feature, Data_label, lr=a)\n",
    "\n",
    "    print(\"\\nw:\")\n",
    "    for w in newton_weight:\n",
    "        print(\" %10f\" % w)\n",
    "\n",
    "    # Classify predict result\n",
    "    new_pred_label = Data_feature.dot(newton_weight)\n",
    "    new_pred_label = sigmoid(new_pred_label.flatten())\n",
    "    new_pred_label[new_pred_label >= 0.5] = 1\n",
    "    new_pred_label[new_pred_label < 0.5] = 0\n",
    "\n",
    "    # Print cm and specificity, sensitivity\n",
    "    print(\"\\nConfusion Matrix:\")\n",
    "    cm = confusion_matrix(ground_truth, new_pred_label)\n",
    "    print(cm)\n",
    "    print(\"\\nSensitivity (Successfully predict cluster 1):\", cm[0, 0] / (cm[0, 0] + cm[0, 1]))\n",
    "    print(\"Specificity (Successfully predict cluster 2):\", cm[1, 1] / (cm[1, 0] + cm[1, 1]))\n",
    "\n",
    "    # Plot predict result\n",
    "    plt.subplot(1, 3, 3)\n",
    "    plt.title(\"Newton's method\")\n",
    "    for i in range(len(Data_x)):\n",
    "        if new_pred_label[i] == 0:\n",
    "            plt.scatter(Data_x[i], Data_y[i], c=\"red\", label=\"cluster 1\")\n",
    "        else:\n",
    "            plt.scatter(Data_x[i], Data_y[i], c=\"blue\", label=\"cluster 2\")"
   ]
  },
  {
   "cell_type": "code",
   "execution_count": 6,
   "metadata": {},
   "outputs": [
    {
     "name": "stdout",
     "output_type": "stream",
     "text": [
      "Gradient descent:\n",
      "\n",
      "w:\n",
      " -146.562522\n",
      "  18.431179\n",
      "  15.769813\n",
      "\n",
      "Confusion Matrix:\n",
      "[[50  0]\n",
      " [ 0 50]]\n",
      "\n",
      "Sensitivity (Successfully predict cluster 1): 1.0\n",
      "Specificity (Successfully predict cluster 2): 1.0\n",
      "-------------------------------------\n",
      "Newton's method:\n",
      "\n",
      "w:\n",
      " -172.593617\n",
      "  25.452127\n",
      "   6.443242\n",
      "\n",
      "Confusion Matrix:\n",
      "[[50  0]\n",
      " [ 0 50]]\n",
      "\n",
      "Sensitivity (Successfully predict cluster 1): 1.0\n",
      "Specificity (Successfully predict cluster 2): 1.0\n"
     ]
    },
    {
     "data": {
      "image/png": "[encoded data removed]",
      "text/plain": [
       "<Figure size 1440x360 with 3 Axes>"
      ]
     },
     "metadata": {
      "needs_background": "light"
     },
     "output_type": "display_data"
    }
   ],
   "source": [
    "# Case 1: N=50, mx1=my1=1, mx2=my2=10, vx1=vy1=vx2=vy2=2\n",
    "LogisticReg(1, 2, 10, 2, 50)"
   ]
  },
  {
   "cell_type": "code",
   "execution_count": 8,
   "metadata": {},
   "outputs": [
    {
     "name": "stdout",
     "output_type": "stream",
     "text": [
      "Gradient descent:\n",
      "\n",
      "w:\n",
      " -116.035779\n",
      "  26.720380\n",
      "  32.380919\n",
      "\n",
      "Confusion Matrix:\n",
      "[[46  4]\n",
      " [ 8 42]]\n",
      "\n",
      "Sensitivity (Successfully predict cluster 1): 0.92\n",
      "Specificity (Successfully predict cluster 2): 0.84\n",
      "-------------------------------------\n",
      "Newton's method:\n",
      "\n",
      "w:\n",
      "  -3.540165\n",
      "   0.826738\n",
      "   1.092007\n",
      "\n",
      "Confusion Matrix:\n",
      "[[46  4]\n",
      " [ 7 43]]\n",
      "\n",
      "Sensitivity (Successfully predict cluster 1): 0.92\n",
      "Specificity (Successfully predict cluster 2): 0.86\n"
     ]
    },
    {
     "data": {
      "image/png": "[encoded data removed]",
      "text/plain": [
       "<Figure size 1440x360 with 3 Axes>"
      ]
     },
     "metadata": {
      "needs_background": "light"
     },
     "output_type": "display_data"
    }
   ],
   "source": [
    "# Case 2: N=50, mx1=my1=1, mx2=my2=3, vx1=vy1=2, vx2=vy2=4\n",
    "LogisticReg(1, 2, 3, 4, 50)"
   ]
  },
  {
   "cell_type": "code",
   "execution_count": 60,
   "metadata": {},
   "outputs": [],
   "source": [
    "# Part 2: EM Algorithm\n",
    "def read_idx(filename):\n",
    "    with open(filename, \"rb\") as f:\n",
    "        zero, data_type, dims = struct.unpack(\">HBB\", f.read(4))\n",
    "        shape = tuple(struct.unpack(\">I\", f.read(4))[0] for d in range(dims))\n",
    "        return np.frombuffer(f.read(), dtype=np.uint8).reshape(shape)\n",
    "\n",
    "\n",
    "train_data = read_idx(\"./mnist/train-images.idx3-ubyte\")\n",
    "train_label = read_idx(\"./mnist/train-labels.idx1-ubyte\")\n",
    "test_data = read_idx(\"./mnist/t10k-images.idx3-ubyte\")\n",
    "test_label = read_idx(\"./mnist/t10k-labels.idx1-ubyte\")"
   ]
  },
  {
   "cell_type": "code",
   "execution_count": 61,
   "metadata": {},
   "outputs": [],
   "source": [
    "# Binning grayscale to binary\n",
    "train = np.copy(train_data)\n",
    "train = np.where(train > 127, 1, 0)\n",
    "flatten_train = []\n",
    "for data in train:\n",
    "    flatten_train.append(data.flatten())\n",
    "train = np.array(flatten_train)"
   ]
  },
  {
   "cell_type": "code",
   "execution_count": 95,
   "metadata": {},
   "outputs": [
    {
     "name": "stdout",
     "output_type": "stream",
     "text": [
      "Total iters: 111\n"
     ]
    }
   ],
   "source": [
    "# initial parameter\n",
    "k = np.random.rand(10)\n",
    "p = np.random.rand(10, 784)  # 784 pixels\n",
    "iters = 200\n",
    "i = 0\n",
    "for i in range(iters):\n",
    "    # E step\n",
    "    # first calculate log probability\n",
    "    w = train.dot(safe_ln(p.T)) + (1 - train).dot(safe_ln(1 - p.T)) + safe_ln(k)\n",
    "    N = w.shape[0]\n",
    "    w = (w.T - np.max(w, axis=1)).T  # normalize(in log scale)\n",
    "    # return to original probability(in exp scale)\n",
    "    w = np.exp(w)\n",
    "    w = (w.T / np.sum(w, axis=1)).T\n",
    "\n",
    "    # M step\n",
    "    k_new = np.sum(w, axis=0) / N\n",
    "    p_new = (train.T.dot(w) / np.sum(w, axis=0)).T\n",
    "\n",
    "    # Check if converges\n",
    "    if np.all(k - k_new < 1e-5) and np.all(p - p_new < 1e-5) and i > 1:\n",
    "        break\n",
    "\n",
    "    k = k_new\n",
    "    p = p_new\n",
    "\n",
    "print(\"Total iters:\", i + 1)"
   ]
  },
  {
   "cell_type": "code",
   "execution_count": 101,
   "metadata": {},
   "outputs": [],
   "source": [
    "# label groups\n",
    "pred = []\n",
    "for i in range(len(w)):\n",
    "    pred.append(np.argmax(w[i]))\n",
    "cm = confusion_matrix(train_label, pred)"
   ]
  },
  {
   "cell_type": "code",
   "execution_count": 102,
   "metadata": {},
   "outputs": [
    {
     "data": {
      "text/plain": [
       "array([[ 334,   27,    3,  859, 4409,    0,  198,   86,    2,    5],\n",
       "       [  36,   15,   49,  361,    0, 6212,   11,   27,    6,   25],\n",
       "       [ 184,  199,   16,  380,   46,  120,  337,  234,    9, 4433],\n",
       "       [1225,  101,  174,  388,   22,  205, 3697,   47,   23,  249],\n",
       "       [  17, 2255, 1526,  462,    9,   38,    0,   83, 1432,   20],\n",
       "       [1478,  189,  121, 1774,   60,   42, 1555,   81,  110,   11],\n",
       "       [  76,   79,    2, 1019,   58,  128,   36, 4479,    1,   40],\n",
       "       [  24,  807, 2257,   67,   13,  163,   13,    5, 2875,   41],\n",
       "       [3366,  149,  109,  730,   34,  272, 1016,   27,  109,   39],\n",
       "       [  89, 1512, 2459,   55,   21,   77,   71,    1, 1660,    4]],\n",
       "      dtype=int64)"
      ]
     },
     "execution_count": 102,
     "metadata": {},
     "output_type": "execute_result"
    }
   ],
   "source": [
    "cm"
   ]
  },
  {
   "cell_type": "code",
   "execution_count": 109,
   "metadata": {},
   "outputs": [],
   "source": [
    "def printCM(num, cluster, TP, FP, FN):\n",
    "    print(\"Confusion Matrx: Cluster #%d\" % cluster)\n",
    "    ws = \"\"\n",
    "    first_row_0 = \"Predict number %d\" % num\n",
    "    first_row_1 = \"Predict number not %d\" % num\n",
    "    print(f\"{ws:<17}{first_row_0:<22}{first_row_1:<20}\")\n",
    "    sec_row_0 = \"Is number %d\" % num\n",
    "    sec_row_1 = TP\n",
    "    sec_row_2 = FN\n",
    "    print(f\"{sec_row_0:<22}{sec_row_1:<24}{sec_row_2:<24}\")\n",
    "    thi_row_0 = \"Isn't num %d\" % num\n",
    "    thi_row_1 = FP\n",
    "    TN = 60000 - TP - FP - FN\n",
    "    thi_row_2 = TN\n",
    "    print(f\"{thi_row_0:<22}{thi_row_1:<24}{thi_row_2:<24}\")\n",
    "    print(\"\\nSensitivity (Successfully predict number %d): %f\" % (num, TP / (TP + FN)))\n",
    "    print(\"Specificity (Successfully predict not number %d): %f\" % (num, TN / (TN + FP)))\n",
    "    print(\"--------------------------------------------------------\")"
   ]
  },
  {
   "cell_type": "code",
   "execution_count": 110,
   "metadata": {},
   "outputs": [
    {
     "name": "stdout",
     "output_type": "stream",
     "text": [
      "Ground truth: [8 4 9 5 0 1 3 6 7 2]\n",
      "Cluster #   : [4 5 9 6 1 3 7 8 0 2]\n"
     ]
    }
   ],
   "source": [
    "print(\"Ground truth:\", cm.argmax(axis=0))\n",
    "print(\"Cluster #   :\", cm.argmax(axis=1))"
   ]
  },
  {
   "cell_type": "code",
   "execution_count": 111,
   "metadata": {},
   "outputs": [
    {
     "name": "stdout",
     "output_type": "stream",
     "text": [
      "Confusion Matrx: Cluster #4\n",
      "                 Predict number 0      Predict number not 0\n",
      "Is number 0           4409                    1514                    \n",
      "Isn't num 0           263                     53814                   \n",
      "\n",
      "Sensitivity (Successfully predict number 0): 0.744386\n",
      "Specificity (Successfully predict not number 0): 0.995137\n",
      "--------------------------------------------------------\n",
      "Confusion Matrx: Cluster #5\n",
      "                 Predict number 1      Predict number not 1\n",
      "Is number 1           6212                    530                     \n",
      "Isn't num 1           1045                    52213                   \n",
      "\n",
      "Sensitivity (Successfully predict number 1): 0.921388\n",
      "Specificity (Successfully predict not number 1): 0.980379\n",
      "--------------------------------------------------------\n",
      "Confusion Matrx: Cluster #9\n",
      "                 Predict number 2      Predict number not 2\n",
      "Is number 2           4433                    1525                    \n",
      "Isn't num 2           434                     53608                   \n",
      "\n",
      "Sensitivity (Successfully predict number 2): 0.744042\n",
      "Specificity (Successfully predict not number 2): 0.991969\n",
      "--------------------------------------------------------\n",
      "Confusion Matrx: Cluster #6\n",
      "                 Predict number 3      Predict number not 3\n",
      "Is number 3           3697                    2434                    \n",
      "Isn't num 3           3237                    50632                   \n",
      "\n",
      "Sensitivity (Successfully predict number 3): 0.603001\n",
      "Specificity (Successfully predict not number 3): 0.939910\n",
      "--------------------------------------------------------\n",
      "Confusion Matrx: Cluster #1\n",
      "                 Predict number 4      Predict number not 4\n",
      "Is number 4           2255                    3587                    \n",
      "Isn't num 4           3078                    51080                   \n",
      "\n",
      "Sensitivity (Successfully predict number 4): 0.385998\n",
      "Specificity (Successfully predict not number 4): 0.943166\n",
      "--------------------------------------------------------\n",
      "Confusion Matrx: Cluster #3\n",
      "                 Predict number 5      Predict number not 5\n",
      "Is number 5           1774                    3647                    \n",
      "Isn't num 5           4321                    50258                   \n",
      "\n",
      "Sensitivity (Successfully predict number 5): 0.327246\n",
      "Specificity (Successfully predict not number 5): 0.920830\n",
      "--------------------------------------------------------\n",
      "Confusion Matrx: Cluster #7\n",
      "                 Predict number 6      Predict number not 6\n",
      "Is number 6           4479                    1439                    \n",
      "Isn't num 6           591                     53491                   \n",
      "\n",
      "Sensitivity (Successfully predict number 6): 0.756844\n",
      "Specificity (Successfully predict not number 6): 0.989072\n",
      "--------------------------------------------------------\n",
      "Confusion Matrx: Cluster #8\n",
      "                 Predict number 7      Predict number not 7\n",
      "Is number 7           2875                    3390                    \n",
      "Isn't num 7           3352                    50383                   \n",
      "\n",
      "Sensitivity (Successfully predict number 7): 0.458899\n",
      "Specificity (Successfully predict not number 7): 0.937620\n",
      "--------------------------------------------------------\n",
      "Confusion Matrx: Cluster #0\n",
      "                 Predict number 8      Predict number not 8\n",
      "Is number 8           3366                    2485                    \n",
      "Isn't num 8           3463                    50686                   \n",
      "\n",
      "Sensitivity (Successfully predict number 8): 0.575286\n",
      "Specificity (Successfully predict not number 8): 0.936047\n",
      "--------------------------------------------------------\n",
      "Confusion Matrx: Cluster #2\n",
      "                 Predict number 9      Predict number not 9\n",
      "Is number 9           2459                    3490                    \n",
      "Isn't num 9           4257                    49794                   \n",
      "\n",
      "Sensitivity (Successfully predict number 9): 0.413347\n",
      "Specificity (Successfully predict not number 9): 0.921241\n",
      "--------------------------------------------------------\n",
      "Overall acc: 0.599317\n"
     ]
    }
   ],
   "source": [
    "i = 0\n",
    "acc = 0\n",
    "for label in range(10):\n",
    "    cluster = cm.argmax(axis=1)[label]\n",
    "    TP = cm.max(axis=1)[label]\n",
    "    FP = cm.sum(axis=0)[cluster] - TP\n",
    "    FN = cm.sum(axis=1)[label] - TP\n",
    "    TN = 60000 - TP - FP - FN\n",
    "    printCM(label, cluster, TP, FP, FN)\n",
    "    acc += TP\n",
    "\n",
    "\n",
    "print(\"Overall acc: %f\" % (acc / 60000))"
   ]
  },
  {
   "cell_type": "code",
   "execution_count": 106,
   "metadata": {},
   "outputs": [
    {
     "data": {
      "image/png": "[encoded data removed]",
      "text/plain": [
       "<Figure size 432x288 with 10 Axes>"
      ]
     },
     "metadata": {
      "needs_background": "light"
     },
     "output_type": "display_data"
    }
   ],
   "source": [
    "plt.figure()\n",
    "for i in range(10):\n",
    "    img = p[i].reshape((28, 28))\n",
    "    plt.subplot(2, 5, i + 1)\n",
    "    plt.imshow(img, cmap=\"gray\")"
   ]
  },
  {
   "cell_type": "code",
   "execution_count": null,
   "metadata": {},
   "outputs": [],
   "source": [
    " "
   ]
  }
 ],
 "metadata": {
  "@deathbeds/jupyterlab-fonts": {
   "fontLicenses": {},
   "fonts": {},
   "styles": {
    ":root": {
     "--jp-code-font-size": "18px",
     "--jp-content-font-size1": "18px"
    }
   }
  },
  "kernelspec": {
   "display_name": "Python 3",
   "language": "python",
   "name": "python3"
  },
  "language_info": {
   "codemirror_mode": {
    "name": "ipython",
    "version": 3
   },
   "file_extension": ".py",
   "mimetype": "text/x-python",
   "name": "python",
   "nbconvert_exporter": "python",
   "pygments_lexer": "ipython3",
   "version": "3.7.3"
  }
 },
 "nbformat": 4,
 "nbformat_minor": 2
}
