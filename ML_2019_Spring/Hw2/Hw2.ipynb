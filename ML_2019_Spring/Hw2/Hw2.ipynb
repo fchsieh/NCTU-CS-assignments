{
 "cells": [
  {
   "cell_type": "code",
   "execution_count": 6,
   "metadata": {
    "ExecuteTime": {
     "end_time": "2019-03-25T09:14:15.916069Z",
     "start_time": "2019-03-25T09:14:12.134518Z"
    }
   },
   "outputs": [],
   "source": [
    "import itertools\n",
    "import math\n",
    "import struct\n",
    "\n",
    "import matplotlib.pyplot as plt\n",
    "import numpy as np\n",
    "import pandas as pd\n",
    "from sklearn import metrics, preprocessing\n",
    "\n",
    "pd.options.display.max_rows = 2000\n",
    "pd.options.display.max_columns = 1000\n",
    "pd.options.display.width = 1500"
   ]
  },
  {
   "cell_type": "code",
   "execution_count": 7,
   "metadata": {
    "ExecuteTime": {
     "end_time": "2019-03-25T09:14:16.019790Z",
     "start_time": "2019-03-25T09:14:15.918063Z"
    }
   },
   "outputs": [],
   "source": [
    "def read_idx(filename):\n",
    "    with open(filename, \"rb\") as f:\n",
    "        zero, data_type, dims = struct.unpack(\">HBB\", f.read(4))\n",
    "        shape = tuple(struct.unpack(\">I\", f.read(4))[0] for d in range(dims))\n",
    "        return np.frombuffer(f.read(), dtype=np.uint8).reshape(shape)\n",
    "\n",
    "\n",
    "train_data = read_idx(\"./train-images.idx3-ubyte\")\n",
    "train_label = read_idx(\"./train-labels.idx1-ubyte\")\n",
    "test_data = read_idx(\"./t10k-images.idx3-ubyte\")\n",
    "test_label = read_idx(\"./t10k-labels.idx1-ubyte\")"
   ]
  },
  {
   "cell_type": "markdown",
   "metadata": {},
   "source": [
    "## Naive Bayes - Discrete mode\n",
    "---\n",
    "### Function of discrete mode:\n",
    "- The equation is $$max\\hspace{0.3cm}posterior = \\frac{\\Pr(x|\\theta) \\Pr(\\theta)}{\\Pr(x)} = \\underset{j}{\\operatorname{argmax}} \\frac{\\Pi_{i=0}^{783}\\frac{x_i}{n_{ji}} \\times \\pi_{ji}}{\\Pr(x)}$$\n",
    "- $\\pi_{ji}$ is the prior = $\\Pr[y=j] ,\\hspace{1cm} 0 \\leq j \\leq 9$"
   ]
  },
  {
   "cell_type": "code",
   "execution_count": 8,
   "metadata": {
    "ExecuteTime": {
     "end_time": "2019-03-25T09:14:16.036746Z",
     "start_time": "2019-03-25T09:14:16.020788Z"
    }
   },
   "outputs": [],
   "source": [
    "class NaiveBayes_Dis():\n",
    "    def __init__(self, train_data, train_label):\n",
    "        self.train_label = train_label\n",
    "        # How many numbers of digit 0~9\n",
    "        self.class_count = [0 for _ in range(10)]\n",
    "\n",
    "        # pixel_data[digit][pixel][bins] with pseudo count\n",
    "        self.pixel_data = [[[10**-5 for _ in range(32)]\n",
    "                            for _ in range(28 * 28)] for _ in range(10)]\n",
    "        self.__buildTrainingData(train_data)\n",
    "\n",
    "    def mapping(self, value):\n",
    "        \"\"\"\n",
    "        For discrete mode: map 0~255 to 0~31\n",
    "        \"\"\"\n",
    "        if value == 255:\n",
    "            return 31\n",
    "        else:\n",
    "            return math.floor(value / 255 * 32)\n",
    "\n",
    "    def flatten(self, data):\n",
    "        flatten_data = []\n",
    "        for i in range(len(data)):\n",
    "            flatten_data.append(\n",
    "                [item for sublist in data[i] for item in sublist])\n",
    "        return flatten_data\n",
    "\n",
    "    def __buildTrainingData(self, data):\n",
    "        \"\"\"\n",
    "        For discrete mode: parse training data and save to dis_pixel_data[digit][pixel][bin]\n",
    "        \"\"\"\n",
    "        vec = np.vectorize(self.mapping)\n",
    "        data = vec(data)\n",
    "        # flatten_data\n",
    "        flatten_data = self.flatten(data)\n",
    "        # Build class_count and pixel_data\n",
    "        # class_count[digit]\n",
    "        # pixel_data[digit][pixel][bin]\n",
    "        for i, image in enumerate(flatten_data, 0):\n",
    "            self.class_count[self.train_label[i]] += 1\n",
    "            for pixel in range(len(image)):\n",
    "                self.pixel_data[self.train_label[i]][pixel][image[pixel]] += 1\n",
    "\n",
    "    def scale(self, posterior):\n",
    "        posterior = preprocessing.minmax_scale(posterior)\n",
    "        posterior = [i / posterior.sum() for i in posterior]\n",
    "        return posterior\n",
    "\n",
    "    def predict(self, test_data, test_label):\n",
    "        vec = np.vectorize(self.mapping)\n",
    "        test_data = vec(test_data)\n",
    "        flatten_test_data = self.flatten(test_data)\n",
    "        posterior = [np.zeros(10) for _ in range(len(flatten_test_data))]\n",
    "        predict = []\n",
    "        for i, img in enumerate(flatten_test_data, 0):\n",
    "            for num in range(10):\n",
    "                for pixel in range(784):\n",
    "                    posterior[i][num] += np.log(\n",
    "                        self.pixel_data[num][pixel][img[pixel]] /\n",
    "                        self.class_count[num])\n",
    "                posterior[i][num] += np.log(self.class_count[num] / 60000)\n",
    "            predict.append(np.argmax(posterior[i]))\n",
    "        scaled_posterior = []\n",
    "        for post in posterior:\n",
    "            scaled_posterior.append(self.scale(post))\n",
    "        return scaled_posterior, predict"
   ]
  },
  {
   "cell_type": "markdown",
   "metadata": {},
   "source": [
    "### Discrete mode: accuracy evaluate and guess\n"
   ]
  },
  {
   "cell_type": "code",
   "execution_count": 9,
   "metadata": {
    "ExecuteTime": {
     "end_time": "2019-03-25T09:17:23.726398Z",
     "start_time": "2019-03-25T09:14:16.037743Z"
    }
   },
   "outputs": [],
   "source": [
    "dis_result = NaiveBayes_Dis(train_data, train_label)\n",
    "dis_post, dis_pred = dis_result.predict(test_data, test_label)"
   ]
  },
  {
   "cell_type": "code",
   "execution_count": 10,
   "metadata": {
    "ExecuteTime": {
     "end_time": "2019-03-25T09:17:23.754320Z",
     "start_time": "2019-03-25T09:17:23.733376Z"
    }
   },
   "outputs": [
    {
     "name": "stdout",
     "output_type": "stream",
     "text": [
      "Posterior (in log scale):\n",
      "0: 0.065078\n",
      "1: 0.000000\n",
      "2: 0.076065\n",
      "3: 0.109349\n",
      "4: 0.126210\n",
      "5: 0.121189\n",
      "6: 0.025718\n",
      "7: 0.193801\n",
      "8: 0.120319\n",
      "9: 0.162271\n",
      "Prediction: 7, Ans: 7\n",
      "\n",
      "Posterior (in log scale):\n",
      "0: 0.094045\n",
      "1: 0.000000\n",
      "2: 0.136274\n",
      "3: 0.110903\n",
      "4: 0.118802\n",
      "5: 0.115062\n",
      "6: 0.168596\n",
      "7: 0.054142\n",
      "8: 0.109765\n",
      "9: 0.092411\n",
      "Prediction: 6, Ans: 6\n",
      "\n",
      "Accuracy: 0.850700\n",
      "Error rate: 0.149300\n"
     ]
    }
   ],
   "source": [
    "def discrete_output():\n",
    "    # test cases\n",
    "    for index in [0, 123]:\n",
    "        print(\"Posterior (in log scale):\")\n",
    "        for i in range(10):\n",
    "            print(\"%d: %f\" % (i, dis_post[index][i]))\n",
    "        print(\"Prediction: %d, Ans: %d\" % (dis_pred[index], test_label[index]))\n",
    "        print(\"\")\n",
    "    acc = metrics.accuracy_score(test_label, dis_pred)\n",
    "    print(\"Accuracy: %f\\nError rate: %f\" % (acc, 1 - acc))\n",
    "\n",
    "\n",
    "discrete_output()"
   ]
  },
  {
   "cell_type": "code",
   "execution_count": 22,
   "metadata": {
    "ExecuteTime": {
     "end_time": "2019-03-25T09:17:23.798203Z",
     "start_time": "2019-03-25T09:17:23.758311Z"
    },
    "scrolled": true
   },
   "outputs": [
    {
     "name": "stdout",
     "output_type": "stream",
     "text": [
      "Guess 4\n",
      "     0   1   2   3   4   5   6   7   8   9   10  11  12  13  14  15  16  17  18  19  20  21  22  23  24  25  26  27\n",
      "0    0   0   0   0   0   0   0   0   0   0   0   0   0   0   0   0   0   0   0   0   0   0   0   0   0   0   0   0\n",
      "1    0   0   0   0   0   0   0   0   0   0   0   0   0   0   0   0   0   0   0   0   0   0   0   0   0   0   0   0\n",
      "2    0   0   0   0   0   0   0   0   0   0   0   0   0   0   0   0   0   0   0   0   0   0   0   0   0   0   0   0\n",
      "3    0   0   0   0   0   0   0   0   0   0   0   0   0   0   0   0   0   0   0   0   0   0   0   0   0   0   0   0\n",
      "4    0   0   0   0   0   0   0   0   0   0   0   0   0   0   0   0   0   0   0   0   0   0   0   0   0   0   0   0\n",
      "5    0   0   0   0   0   0   0   0   0   0   0   0   0   0   0   0   0   0   0   0   0   0   0   0   0   0   0   0\n",
      "6    0   0   0   0   0   0   0   0   0   0   0   0   0   0   0   0   0   0   0   0   0   0   0   0   0   0   0   0\n",
      "7    0   0   0   0   0   0   0   0   0   0   0   0   0   0   0   0   0   0   0   0   0   0   0   0   0   0   0   0\n",
      "8    0   0   0   0   0   0   0   0   0   0   0   0   0   0   0   0   0   0   0   0   0   0   0   0   0   0   0   0\n",
      "9    0   0   0   0   0   0   0   0   0   0   0   0   0   0   0   0   0   0   1   0   0   0   0   0   0   0   0   0\n",
      "10   0   0   0   0   0   0   0   0   0   0   1   0   0   0   0   0   0   0   1   1   0   0   0   0   0   0   0   0\n",
      "11   0   0   0   0   0   0   0   0   0   1   1   0   0   0   0   0   0   1   1   1   0   0   0   0   0   0   0   0\n",
      "12   0   0   0   0   0   0   0   0   1   1   1   0   0   0   0   0   0   1   1   0   0   0   0   0   0   0   0   0\n",
      "13   0   0   0   0   0   0   0   0   1   1   1   0   0   0   0   0   1   1   1   0   0   0   0   0   0   0   0   0\n",
      "14   0   0   0   0   0   0   0   0   1   1   1   1   0   0   0   1   1   1   1   0   0   0   0   0   0   0   0   0\n",
      "15   0   0   0   0   0   0   0   1   1   1   1   1   1   1   1   1   1   1   1   0   0   0   0   0   0   0   0   0\n",
      "16   0   0   0   0   0   0   0   0   1   1   1   1   1   1   1   1   1   1   1   0   0   0   0   0   0   0   0   0\n",
      "17   0   0   0   0   0   0   0   0   0   0   0   0   0   0   1   1   1   1   0   0   0   0   0   0   0   0   0   0\n",
      "18   0   0   0   0   0   0   0   0   0   0   0   0   0   0   0   1   1   0   0   0   0   0   0   0   0   0   0   0\n",
      "19   0   0   0   0   0   0   0   0   0   0   0   0   0   0   0   0   0   0   0   0   0   0   0   0   0   0   0   0\n",
      "20   0   0   0   0   0   0   0   0   0   0   0   0   0   0   0   0   0   0   0   0   0   0   0   0   0   0   0   0\n",
      "21   0   0   0   0   0   0   0   0   0   0   0   0   0   0   0   0   0   0   0   0   0   0   0   0   0   0   0   0\n",
      "22   0   0   0   0   0   0   0   0   0   0   0   0   0   0   0   0   0   0   0   0   0   0   0   0   0   0   0   0\n",
      "23   0   0   0   0   0   0   0   0   0   0   0   0   0   0   0   0   0   0   0   0   0   0   0   0   0   0   0   0\n",
      "24   0   0   0   0   0   0   0   0   0   0   0   0   0   0   0   0   0   0   0   0   0   0   0   0   0   0   0   0\n",
      "25   0   0   0   0   0   0   0   0   0   0   0   0   0   0   0   0   0   0   0   0   0   0   0   0   0   0   0   0\n",
      "26   0   0   0   0   0   0   0   0   0   0   0   0   0   0   0   0   0   0   0   0   0   0   0   0   0   0   0   0\n",
      "27   0   0   0   0   0   0   0   0   0   0   0   0   0   0   0   0   0   0   0   0   0   0   0   0   0   0   0   0\n"
     ]
    }
   ],
   "source": [
    "def discrete_guess():\n",
    "    guess = []\n",
    "    for digit, pixel_bin in enumerate(dis_result.pixel_data, 1):\n",
    "        digit = []\n",
    "        for bins in pixel_bin:\n",
    "            digit.append(int(sum(bins[0:16]) <= sum(bins[16:])))\n",
    "        digit = np.reshape(digit, (28, 28))\n",
    "        guess.append(digit)\n",
    "    return guess\n",
    "\n",
    "\n",
    "discrete_guess = discrete_guess()\n",
    "guess_num = 4\n",
    "print(\"Guess %d\\n\" % guess_num, pd.DataFrame(discrete_guess[guess_num]))"
   ]
  },
  {
   "cell_type": "code",
   "execution_count": 12,
   "metadata": {
    "ExecuteTime": {
     "end_time": "2019-03-25T09:17:25.322740Z",
     "start_time": "2019-03-25T09:17:23.800198Z"
    }
   },
   "outputs": [
    {
     "data": {
      "image/png": "[encoded data removed]",
      "text/plain": [
       "<Figure size 576x576 with 10 Axes>"
      ]
     },
     "metadata": {
      "needs_background": "light"
     },
     "output_type": "display_data"
    }
   ],
   "source": [
    "fig = plt.figure(figsize=(8, 8))\n",
    "for num in range(10):\n",
    "    sub = fig.add_subplot(2, 5, num + 1)\n",
    "    sub.imshow(discrete_guess[num], cmap=\"Greys\")\n",
    "plt.tight_layout()\n",
    "plt.show()"
   ]
  },
  {
   "cell_type": "markdown",
   "metadata": {},
   "source": [
    "## Naive Bayes - Continuous mode\n",
    "---\n",
    "- $$Posterior = \\frac{\\Pr(x|c) \\times Prior}{marginal}$$\n",
    "- $\\Pr(x|c)$ using Gaussian distribution"
   ]
  },
  {
   "cell_type": "code",
   "execution_count": 13,
   "metadata": {
    "ExecuteTime": {
     "end_time": "2019-03-25T09:30:29.405281Z",
     "start_time": "2019-03-25T09:30:29.389316Z"
    }
   },
   "outputs": [],
   "source": [
    "class NaiveBayes_Con():\n",
    "    def __init__(self, train_data, train_label):\n",
    "        self.train_label = train_label\n",
    "        self.__buildTrainingData(train_data)\n",
    "\n",
    "    def log_gaussian(self, x, mean, sigma):\n",
    "        if sigma == 0:\n",
    "            return 0\n",
    "        elif x == mean:\n",
    "            return 1\n",
    "        return -1 / 2 * np.log(2 * math.pi) - 1 / 2 * np.log(sigma) - 1 / 2 * (\n",
    "            x - mean)**2 / sigma\n",
    "\n",
    "    def __buildTrainingData(self, train_data):\n",
    "        self.class_count = [0 for _ in range(10)]\n",
    "        flatten_data = self.flatten(train_data)\n",
    "        self.pixel_data = [[[] for _ in range(784)] for _ in range(10)]\n",
    "        for i, img in enumerate(flatten_data, 0):\n",
    "            self.class_count[self.train_label[i]] += 1\n",
    "            for pixel in range(784):\n",
    "                self.pixel_data[self.train_label[i]][pixel].append(img[pixel])\n",
    "        self.mean = [[] for _ in range(784)]\n",
    "        self.variance = [[] for _ in range(784)]\n",
    "        for num in range(10):\n",
    "            for pixel in range(784):\n",
    "                self.mean[num].append(np.mean(self.pixel_data[num][pixel]))\n",
    "                self.variance[num].append(np.var(self.pixel_data[num][pixel]))\n",
    "\n",
    "    def predict(self, test_data, test_label):\n",
    "        flatten_data = self.flatten(test_data)\n",
    "        posterior = [[] for _ in range(len(flatten_data))]\n",
    "        predict = []\n",
    "        for i, img in enumerate(flatten_data, 0):\n",
    "            for num in range(10):\n",
    "                post = 0\n",
    "                for pixel in range(784):\n",
    "                    likelihood = self.log_gaussian(img[pixel],\n",
    "                                                   self.mean[num][pixel],\n",
    "                                                   self.variance[num][pixel])\n",
    "                    post += likelihood\n",
    "                post += np.log(self.class_count[num] / 60000)\n",
    "                posterior[i].append(post)\n",
    "        for i in posterior:\n",
    "            predict.append(np.argmax(i))\n",
    "        return posterior, predict\n",
    "\n",
    "    def flatten(self, data):\n",
    "        flatten_data = []\n",
    "        for i in range(len(data)):\n",
    "            flatten_data.append(\n",
    "                [item for sublist in data[i] for item in sublist])\n",
    "        return flatten_data"
   ]
  },
  {
   "cell_type": "code",
   "execution_count": 14,
   "metadata": {
    "ExecuteTime": {
     "end_time": "2019-03-25T09:31:23.060569Z",
     "start_time": "2019-03-25T09:30:30.047138Z"
    }
   },
   "outputs": [],
   "source": [
    "result_con = NaiveBayes_Con(train_data, train_label)"
   ]
  },
  {
   "cell_type": "code",
   "execution_count": 15,
   "metadata": {
    "ExecuteTime": {
     "end_time": "2019-03-25T09:43:39.578190Z",
     "start_time": "2019-03-25T09:31:23.062563Z"
    }
   },
   "outputs": [],
   "source": [
    "con_post, con_pred = result_con.predict(test_data, test_label)"
   ]
  },
  {
   "cell_type": "code",
   "execution_count": 16,
   "metadata": {
    "ExecuteTime": {
     "end_time": "2019-03-25T09:43:39.592145Z",
     "start_time": "2019-03-25T09:43:39.580189Z"
    }
   },
   "outputs": [
    {
     "name": "stdout",
     "output_type": "stream",
     "text": [
      "Accuracy: 0.648300\n",
      "Error rate: 0.351700\n"
     ]
    }
   ],
   "source": [
    "acc = metrics.accuracy_score(test_label, con_pred)\n",
    "print(\"Accuracy: %f\\nError rate: %f\" % (acc, 1 - acc))"
   ]
  },
  {
   "cell_type": "code",
   "execution_count": 17,
   "metadata": {
    "ExecuteTime": {
     "end_time": "2019-03-25T09:29:23.536373Z",
     "start_time": "2019-03-25T09:29:23.527398Z"
    }
   },
   "outputs": [],
   "source": [
    "def Gamma(x):\n",
    "    return math.factorial(x - 1)\n",
    "\n",
    "\n",
    "def Beta(x, y):\n",
    "    return Gamma(x) * Gamma(y) / Gamma(a + b)\n",
    "\n",
    "\n",
    "def betaDistribution(x, alpha, beta):\n",
    "    return 1 / Beta(alpha, beta) * x**(alpha - 1) * (1 - x)**(beta - 1)\n",
    "\n",
    "\n",
    "def Bin_Likelihood(p, n, m):\n",
    "    return (math.factorial(n) / (math.factorial(m) * math.factorial(n - m))\n",
    "            ) * p**m * (1 - p)**(n - m)"
   ]
  },
  {
   "cell_type": "code",
   "execution_count": 18,
   "metadata": {
    "ExecuteTime": {
     "end_time": "2019-03-25T09:29:23.563301Z",
     "start_time": "2019-03-25T09:29:23.540363Z"
    }
   },
   "outputs": [],
   "source": [
    "data = []\n",
    "original_input = []\n",
    "with open(\"test.txt\", \"r\") as file:\n",
    "    for lines in file.readlines():\n",
    "        if lines[-1] == \"\\n\":\n",
    "            original_input.append(lines[:-1])\n",
    "        else:\n",
    "            original_input.append(lines)\n",
    "        a = 0\n",
    "        b = 0\n",
    "        for i in range(len(lines)):\n",
    "            if lines[i] == \"0\":\n",
    "                b += 1\n",
    "            elif lines[i] == \"1\":\n",
    "                a += 1\n",
    "        data.append([a, b])\n",
    "# data[line][a, b]"
   ]
  },
  {
   "cell_type": "code",
   "execution_count": 24,
   "metadata": {
    "ExecuteTime": {
     "end_time": "2019-03-25T09:29:23.577264Z",
     "start_time": "2019-03-25T09:29:23.565296Z"
    }
   },
   "outputs": [
    {
     "name": "stdout",
     "output_type": "stream",
     "text": [
      "case 1: 0101010101001011010101\n",
      "Likelihood: 0.168188\n",
      "Beta Prior: \ta = 0, b = 0\n",
      "Beta Posterior: a = 11, b = 11\n",
      "\n",
      "\n",
      "case 2: 0110101\n",
      "Likelihood: 0.293755\n",
      "Beta Prior: \ta = 11, b = 11\n",
      "Beta Posterior: a = 15, b = 14\n",
      "\n",
      "\n",
      "case 3: 010110101101\n",
      "Likelihood: 0.228605\n",
      "Beta Prior: \ta = 15, b = 14\n",
      "Beta Posterior: a = 22, b = 19\n",
      "\n",
      "\n",
      "case 4: 0101101011101011010\n",
      "Likelihood: 0.182869\n",
      "Beta Prior: \ta = 22, b = 19\n",
      "Beta Posterior: a = 33, b = 27\n",
      "\n",
      "\n",
      "case 5: 111101100011110\n",
      "Likelihood: 0.214307\n",
      "Beta Prior: \ta = 33, b = 27\n",
      "Beta Posterior: a = 43, b = 32\n",
      "\n",
      "\n",
      "case 6: 101110111000110\n",
      "Likelihood: 0.206598\n",
      "Beta Prior: \ta = 43, b = 32\n",
      "Beta Posterior: a = 52, b = 38\n",
      "\n",
      "\n",
      "case 7: 1010010111\n",
      "Likelihood: 0.250823\n",
      "Beta Prior: \ta = 52, b = 38\n",
      "Beta Posterior: a = 58, b = 42\n",
      "\n",
      "\n",
      "case 8: 11101110110\n",
      "Likelihood: 0.261968\n",
      "Beta Prior: \ta = 58, b = 42\n",
      "Beta Posterior: a = 66, b = 45\n",
      "\n",
      "\n",
      "case 9: 01000111101\n",
      "Likelihood: 0.236091\n",
      "Beta Prior: \ta = 66, b = 45\n",
      "Beta Posterior: a = 72, b = 50\n",
      "\n",
      "\n",
      "case 10: 110100111\n",
      "Likelihood: 0.273129\n",
      "Beta Prior: \ta = 72, b = 50\n",
      "Beta Posterior: a = 78, b = 53\n",
      "\n",
      "\n",
      "case 11: 01101010111\n",
      "Likelihood: 0.243849\n",
      "Beta Prior: \ta = 78, b = 53\n",
      "Beta Posterior: a = 85, b = 57\n",
      "\n",
      "\n"
     ]
    }
   ],
   "source": [
    "# case 1: initial a = 0, b = 0\n",
    "prior_a = 0\n",
    "prior_b = 0\n",
    "post_a = 0\n",
    "post_b = 0\n",
    "for i in range(len(original_input)):\n",
    "    m = data[i][0]\n",
    "    n = data[i][0] + data[i][1]\n",
    "    p = m / n\n",
    "    likelihood = Bin_Likelihood(p, n, m)\n",
    "    print(\"case %d: %s\" % (i + 1, original_input[i]))\n",
    "    print(\"Likelihood: %f\" % likelihood)\n",
    "    print(\"Beta Prior: \\ta = %d, b = %d\" % (prior_a, prior_b))\n",
    "    prior_a += data[i][0]\n",
    "    prior_b += data[i][1]\n",
    "    post_a = prior_a\n",
    "    post_b = prior_b\n",
    "    print(\"Beta Posterior: a = %d, b = %d\" % (post_a, post_b))\n",
    "    print(\"\\n\")"
   ]
  },
  {
   "cell_type": "code",
   "execution_count": 20,
   "metadata": {
    "ExecuteTime": {
     "end_time": "2019-03-25T09:29:23.596213Z",
     "start_time": "2019-03-25T09:29:23.579259Z"
    }
   },
   "outputs": [
    {
     "name": "stdout",
     "output_type": "stream",
     "text": [
      "case 1: 0101010101001011010101\n",
      "Likelihood: 0.168188\n",
      "Beta Prior: \ta = 10, b = 1\n",
      "Beta Posterior: a = 21, b = 12\n",
      "\n",
      "\n",
      "case 2: 0110101\n",
      "Likelihood: 0.293755\n",
      "Beta Prior: \ta = 21, b = 12\n",
      "Beta Posterior: a = 25, b = 15\n",
      "\n",
      "\n",
      "case 3: 010110101101\n",
      "Likelihood: 0.228605\n",
      "Beta Prior: \ta = 25, b = 15\n",
      "Beta Posterior: a = 32, b = 20\n",
      "\n",
      "\n",
      "case 4: 0101101011101011010\n",
      "Likelihood: 0.182869\n",
      "Beta Prior: \ta = 32, b = 20\n",
      "Beta Posterior: a = 43, b = 28\n",
      "\n",
      "\n",
      "case 5: 111101100011110\n",
      "Likelihood: 0.214307\n",
      "Beta Prior: \ta = 43, b = 28\n",
      "Beta Posterior: a = 53, b = 33\n",
      "\n",
      "\n",
      "case 6: 101110111000110\n",
      "Likelihood: 0.206598\n",
      "Beta Prior: \ta = 53, b = 33\n",
      "Beta Posterior: a = 62, b = 39\n",
      "\n",
      "\n",
      "case 7: 1010010111\n",
      "Likelihood: 0.250823\n",
      "Beta Prior: \ta = 62, b = 39\n",
      "Beta Posterior: a = 68, b = 43\n",
      "\n",
      "\n",
      "case 8: 11101110110\n",
      "Likelihood: 0.261968\n",
      "Beta Prior: \ta = 68, b = 43\n",
      "Beta Posterior: a = 76, b = 46\n",
      "\n",
      "\n",
      "case 9: 01000111101\n",
      "Likelihood: 0.236091\n",
      "Beta Prior: \ta = 76, b = 46\n",
      "Beta Posterior: a = 82, b = 51\n",
      "\n",
      "\n",
      "case 10: 110100111\n",
      "Likelihood: 0.273129\n",
      "Beta Prior: \ta = 82, b = 51\n",
      "Beta Posterior: a = 88, b = 54\n",
      "\n",
      "\n",
      "case 11: 01101010111\n",
      "Likelihood: 0.243849\n",
      "Beta Prior: \ta = 88, b = 54\n",
      "Beta Posterior: a = 95, b = 58\n",
      "\n",
      "\n"
     ]
    }
   ],
   "source": [
    "# case 2: initial a = 10, b = 1\n",
    "prior_a = 10\n",
    "prior_b = 1\n",
    "post_a = 0\n",
    "post_b = 0\n",
    "for i in range(len(original_input)):\n",
    "    m = data[i][0]\n",
    "    n = data[i][0] + data[i][1]\n",
    "    p = m / n\n",
    "    likelihood = Bin_Likelihood(p, n, m)\n",
    "    print(\"case %d: %s\" % (i + 1, original_input[i]))\n",
    "    print(\"Likelihood: %f\" % likelihood)\n",
    "    print(\"Beta Prior: \\ta = %d, b = %d\" % (prior_a, prior_b))\n",
    "    prior_a += data[i][0]\n",
    "    prior_b += data[i][1]\n",
    "    post_a = prior_a\n",
    "    post_b = prior_b\n",
    "    print(\"Beta Posterior: a = %d, b = %d\" % (post_a, post_b))\n",
    "    print(\"\\n\")"
   ]
  },
  {
   "cell_type": "code",
   "execution_count": null,
   "metadata": {},
   "outputs": [],
   "source": []
  }
 ],
 "metadata": {
  "kernelspec": {
   "display_name": "Python 3",
   "language": "python",
   "name": "python3"
  },
  "language_info": {
   "codemirror_mode": {
    "name": "ipython",
    "version": 3
   },
   "file_extension": ".py",
   "mimetype": "text/x-python",
   "name": "python",
   "nbconvert_exporter": "python",
   "pygments_lexer": "ipython3",
   "version": "3.7.3"
  },
  "varInspector": {
   "cols": {
    "lenName": 16,
    "lenType": 16,
    "lenVar": 40
   },
   "kernels_config": {
    "python": {
     "delete_cmd_postfix": "",
     "delete_cmd_prefix": "del ",
     "library": "var_list.py",
     "varRefreshCmd": "print(var_dic_list())"
    },
    "r": {
     "delete_cmd_postfix": ") ",
     "delete_cmd_prefix": "rm(",
     "library": "var_list.r",
     "varRefreshCmd": "cat(var_dic_list()) "
    }
   },
   "oldHeight": 401,
   "position": {
    "height": "423px",
    "left": "1433px",
    "right": "20px",
    "top": "66px",
    "width": "450px"
   },
   "types_to_exclude": [
    "module",
    "function",
    "builtin_function_or_method",
    "instance",
    "_Feature"
   ],
   "varInspector_section_display": "block",
   "window_display": true
  }
 },
 "nbformat": 4,
 "nbformat_minor": 2
}
