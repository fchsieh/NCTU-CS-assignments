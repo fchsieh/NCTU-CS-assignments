{
 "cells": [
  {
   "cell_type": "code",
   "execution_count": 26,
   "metadata": {
    "ExecuteTime": {
     "end_time": "2019-03-23T17:31:11.520699Z",
     "start_time": "2019-03-23T17:31:11.517708Z"
    }
   },
   "outputs": [],
   "source": [
    "import math"
   ]
  },
  {
   "cell_type": "code",
   "execution_count": 42,
   "metadata": {
    "ExecuteTime": {
     "end_time": "2019-03-23T17:42:20.647009Z",
     "start_time": "2019-03-23T17:42:20.642055Z"
    }
   },
   "outputs": [],
   "source": [
    "def Gamma(x):\n",
    "    return math.factorial(x - 1)\n",
    "\n",
    "\n",
    "def Beta(x, y):\n",
    "    return Gamma(x) * Gamma(y) / Gamma(a + b)\n",
    "\n",
    "\n",
    "def betaDistribution(x, alpha, beta):\n",
    "    return 1 / Beta(alpha, beta) * x**(alpha - 1) * (1 - x)**(beta - 1)\n",
    "\n",
    "\n",
    "def Bin_Likelihood(p, n, m):\n",
    "    return (math.factorial(n) / (math.factorial(m) * math.factorial(n - m))\n",
    "            ) * p**m * (1 - p)**(n - m)"
   ]
  },
  {
   "cell_type": "code",
   "execution_count": 43,
   "metadata": {
    "ExecuteTime": {
     "end_time": "2019-03-23T17:42:20.888666Z",
     "start_time": "2019-03-23T17:42:20.880689Z"
    }
   },
   "outputs": [],
   "source": [
    "data = []\n",
    "original_input = []\n",
    "with open(\"test.txt\", \"r\") as file:\n",
    "    for lines in file.readlines():\n",
    "        if lines[-1] == \"\\n\":\n",
    "            original_input.append(lines[:-1])\n",
    "        else:\n",
    "            original_input.append(lines)\n",
    "        a = 0\n",
    "        b = 0\n",
    "        for i in range(len(lines)):\n",
    "            if lines[i] == \"0\":\n",
    "                b += 1\n",
    "            elif lines[i] == \"1\":\n",
    "                a += 1\n",
    "        data.append([a, b])\n",
    "# data[line][a, b]"
   ]
  },
  {
   "cell_type": "code",
   "execution_count": 45,
   "metadata": {
    "ExecuteTime": {
     "end_time": "2019-03-23T17:46:45.268924Z",
     "start_time": "2019-03-23T17:46:45.262964Z"
    }
   },
   "outputs": [
    {
     "name": "stdout",
     "output_type": "stream",
     "text": [
      "case 1: 0101010101001011010101\n",
      "Likelihood: 0.168188\n",
      "Beta Prior: \ta = 0, b = 0\n",
      "Beta Posterior: a = 11, b = 11\n",
      "\n",
      "\n",
      "case 2: 0110101\n",
      "Likelihood: 0.293755\n",
      "Beta Prior: \ta = 11, b = 11\n",
      "Beta Posterior: a = 15, b = 14\n",
      "\n",
      "\n",
      "case 3: 010110101101\n",
      "Likelihood: 0.228605\n",
      "Beta Prior: \ta = 15, b = 14\n",
      "Beta Posterior: a = 22, b = 19\n",
      "\n",
      "\n",
      "case 4: 0101101011101011010\n",
      "Likelihood: 0.182869\n",
      "Beta Prior: \ta = 22, b = 19\n",
      "Beta Posterior: a = 33, b = 27\n",
      "\n",
      "\n",
      "case 5: 111101100011110\n",
      "Likelihood: 0.214307\n",
      "Beta Prior: \ta = 33, b = 27\n",
      "Beta Posterior: a = 43, b = 32\n",
      "\n",
      "\n",
      "case 6: 101110111000110\n",
      "Likelihood: 0.206598\n",
      "Beta Prior: \ta = 43, b = 32\n",
      "Beta Posterior: a = 52, b = 38\n",
      "\n",
      "\n",
      "case 7: 1010010111\n",
      "Likelihood: 0.250823\n",
      "Beta Prior: \ta = 52, b = 38\n",
      "Beta Posterior: a = 58, b = 42\n",
      "\n",
      "\n",
      "case 8: 11101110110\n",
      "Likelihood: 0.261968\n",
      "Beta Prior: \ta = 58, b = 42\n",
      "Beta Posterior: a = 66, b = 45\n",
      "\n",
      "\n",
      "case 9: 01000111101\n",
      "Likelihood: 0.236091\n",
      "Beta Prior: \ta = 66, b = 45\n",
      "Beta Posterior: a = 72, b = 50\n",
      "\n",
      "\n",
      "case 10: 110100111\n",
      "Likelihood: 0.273129\n",
      "Beta Prior: \ta = 72, b = 50\n",
      "Beta Posterior: a = 78, b = 53\n",
      "\n",
      "\n",
      "case 11: 01101010111\n",
      "Likelihood: 0.243849\n",
      "Beta Prior: \ta = 78, b = 53\n",
      "Beta Posterior: a = 85, b = 57\n",
      "\n",
      "\n"
     ]
    }
   ],
   "source": [
    "# case 1: initial a = 0, b = 0\n",
    "prior_a = 0\n",
    "prior_b = 0\n",
    "post_a = 0\n",
    "post_b = 0\n",
    "for i in range(len(original_input)):\n",
    "    m = data[i][0]\n",
    "    n = data[i][0] + data[i][1]\n",
    "    p = m / n\n",
    "    likelihood = Bin_Likelihood(p, n, m)\n",
    "    print(\"case %d: %s\" % (i + 1, original_input[i]))\n",
    "    print(\"Likelihood: %f\" % likelihood)\n",
    "    print(\"Beta Prior: \\ta = %d, b = %d\" % (prior_a, prior_b))\n",
    "    prior_a += data[i][0]\n",
    "    prior_b += data[i][1]\n",
    "    post_a = prior_a\n",
    "    post_b = prior_b\n",
    "    print(\"Beta Posterior: a = %d, b = %d\" % (post_a, post_b))\n",
    "    print(\"\\n\")"
   ]
  },
  {
   "cell_type": "code",
   "execution_count": 46,
   "metadata": {
    "ExecuteTime": {
     "end_time": "2019-03-24T00:33:31.307891Z",
     "start_time": "2019-03-24T00:33:31.299941Z"
    }
   },
   "outputs": [
    {
     "name": "stdout",
     "output_type": "stream",
     "text": [
      "case 1: 0101010101001011010101\n",
      "Likelihood: 0.168188\n",
      "Beta Prior: \ta = 10, b = 1\n",
      "Beta Posterior: a = 21, b = 12\n",
      "\n",
      "\n",
      "case 2: 0110101\n",
      "Likelihood: 0.293755\n",
      "Beta Prior: \ta = 21, b = 12\n",
      "Beta Posterior: a = 25, b = 15\n",
      "\n",
      "\n",
      "case 3: 010110101101\n",
      "Likelihood: 0.228605\n",
      "Beta Prior: \ta = 25, b = 15\n",
      "Beta Posterior: a = 32, b = 20\n",
      "\n",
      "\n",
      "case 4: 0101101011101011010\n",
      "Likelihood: 0.182869\n",
      "Beta Prior: \ta = 32, b = 20\n",
      "Beta Posterior: a = 43, b = 28\n",
      "\n",
      "\n",
      "case 5: 111101100011110\n",
      "Likelihood: 0.214307\n",
      "Beta Prior: \ta = 43, b = 28\n",
      "Beta Posterior: a = 53, b = 33\n",
      "\n",
      "\n",
      "case 6: 101110111000110\n",
      "Likelihood: 0.206598\n",
      "Beta Prior: \ta = 53, b = 33\n",
      "Beta Posterior: a = 62, b = 39\n",
      "\n",
      "\n",
      "case 7: 1010010111\n",
      "Likelihood: 0.250823\n",
      "Beta Prior: \ta = 62, b = 39\n",
      "Beta Posterior: a = 68, b = 43\n",
      "\n",
      "\n",
      "case 8: 11101110110\n",
      "Likelihood: 0.261968\n",
      "Beta Prior: \ta = 68, b = 43\n",
      "Beta Posterior: a = 76, b = 46\n",
      "\n",
      "\n",
      "case 9: 01000111101\n",
      "Likelihood: 0.236091\n",
      "Beta Prior: \ta = 76, b = 46\n",
      "Beta Posterior: a = 82, b = 51\n",
      "\n",
      "\n",
      "case 10: 110100111\n",
      "Likelihood: 0.273129\n",
      "Beta Prior: \ta = 82, b = 51\n",
      "Beta Posterior: a = 88, b = 54\n",
      "\n",
      "\n",
      "case 11: 01101010111\n",
      "Likelihood: 0.243849\n",
      "Beta Prior: \ta = 88, b = 54\n",
      "Beta Posterior: a = 95, b = 58\n",
      "\n",
      "\n"
     ]
    }
   ],
   "source": [
    "# case 2: initial a = 10, b = 1\n",
    "prior_a = 10\n",
    "prior_b = 1\n",
    "post_a = 0\n",
    "post_b = 0\n",
    "for i in range(len(original_input)):\n",
    "    m = data[i][0]\n",
    "    n = data[i][0] + data[i][1]\n",
    "    p = m / n\n",
    "    likelihood = Bin_Likelihood(p, n, m)\n",
    "    print(\"case %d: %s\" % (i + 1, original_input[i]))\n",
    "    print(\"Likelihood: %f\" % likelihood)\n",
    "    print(\"Beta Prior: \\ta = %d, b = %d\" % (prior_a, prior_b))\n",
    "    prior_a += data[i][0]\n",
    "    prior_b += data[i][1]\n",
    "    post_a = prior_a\n",
    "    post_b = prior_b\n",
    "    print(\"Beta Posterior: a = %d, b = %d\" % (post_a, post_b))\n",
    "    print(\"\\n\")"
   ]
  },
  {
   "cell_type": "code",
   "execution_count": null,
   "metadata": {},
   "outputs": [],
   "source": []
  }
 ],
 "metadata": {
  "kernelspec": {
   "display_name": "Python 3",
   "language": "python",
   "name": "python3"
  },
  "language_info": {
   "codemirror_mode": {
    "name": "ipython",
    "version": 3
   },
   "file_extension": ".py",
   "mimetype": "text/x-python",
   "name": "python",
   "nbconvert_exporter": "python",
   "pygments_lexer": "ipython3",
   "version": "3.7.1"
  }
 },
 "nbformat": 4,
 "nbformat_minor": 2
}
