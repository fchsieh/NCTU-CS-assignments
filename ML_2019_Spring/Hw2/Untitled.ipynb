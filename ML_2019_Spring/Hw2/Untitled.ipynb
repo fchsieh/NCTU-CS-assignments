{
 "cells": [
  {
   "cell_type": "code",
   "execution_count": 1,
   "metadata": {
    "ExecuteTime": {
     "end_time": "2019-03-24T03:17:40.234811Z",
     "start_time": "2019-03-24T03:17:38.641650Z"
    }
   },
   "outputs": [],
   "source": [
    "import itertools\n",
    "import math\n",
    "import struct\n",
    "\n",
    "import matplotlib.pyplot as plt\n",
    "import numpy as np\n",
    "import pandas as pd\n",
    "from sklearn import metrics, preprocessing\n",
    "\n",
    "pd.options.display.max_rows = 2000\n",
    "pd.options.display.max_columns = 1000\n",
    "pd.options.display.width = 1500"
   ]
  },
  {
   "cell_type": "code",
   "execution_count": 2,
   "metadata": {
    "ExecuteTime": {
     "end_time": "2019-03-24T03:17:40.324571Z",
     "start_time": "2019-03-24T03:17:40.237802Z"
    }
   },
   "outputs": [],
   "source": [
    "def read_idx(filename):\n",
    "    with open(filename, \"rb\") as f:\n",
    "        zero, data_type, dims = struct.unpack(\">HBB\", f.read(4))\n",
    "        shape = tuple(struct.unpack(\">I\", f.read(4))[0] for d in range(dims))\n",
    "        return np.frombuffer(f.read(), dtype=np.uint8).reshape(shape)\n",
    "\n",
    "\n",
    "train_data = read_idx(\"./train-images.idx3-ubyte\")\n",
    "train_label = read_idx(\"./train-labels.idx1-ubyte\")\n",
    "test_data = read_idx(\"./t10k-images.idx3-ubyte\")\n",
    "test_label = read_idx(\"./t10k-labels.idx1-ubyte\")"
   ]
  },
  {
   "cell_type": "code",
   "execution_count": null,
   "metadata": {
    "ExecuteTime": {
     "start_time": "2019-03-24T03:17:38.625Z"
    }
   },
   "outputs": [],
   "source": [
    "class NaiveBayes_Con():\n",
    "    def __init__(self, train_data, train_label):\n",
    "        self.train_label = train_label\n",
    "        self.__buildTrainingData(train_data)\n",
    "\n",
    "    def log_gaussian(self, x, mean, sigma):\n",
    "        if sigma == 0:\n",
    "            sigma = 10**-3\n",
    "        return np.log(1 / math.sqrt(2 * math.pi * sigma)) - ((\n",
    "            (x - mean)**2) / (2 * sigma))\n",
    "\n",
    "    def __buildTrainingData(self, train_data):\n",
    "        self.class_count = [0 for _ in range(10)]\n",
    "        flatten_data = self.flatten(train_data)\n",
    "        self.pixel_data = [[[] for _ in range(784)] for _ in range(10)]\n",
    "        for i, img in enumerate(flatten_data, 0):\n",
    "            self.class_count[self.train_label[i]] += 1\n",
    "            for pixel in range(784):\n",
    "                self.pixel_data[self.train_label[i]][pixel].append(img[pixel])\n",
    "        self.mean = [[] for _ in range(784)]\n",
    "        self.variance = [[] for _ in range(784)]\n",
    "        for num in range(10):\n",
    "            for pixel in range(784):\n",
    "                self.mean[num].append(np.mean(self.pixel_data[num][pixel]))\n",
    "                self.variance[num].append(np.var(self.pixel_data[num][pixel]))\n",
    "\n",
    "    def predict(self, test_data, test_label):\n",
    "        flatten_data = self.flatten(test_data)\n",
    "        posterior = [[] for _ in range(len(flatten_data))]\n",
    "        predict = []\n",
    "        for i, img in enumerate(flatten_data, 0):\n",
    "            for pixel in range(784):\n",
    "                for num in range(10):\n",
    "                    lhood = self.log_gaussian(img[pixel],\n",
    "                                              self.mean[num][pixel],\n",
    "                                              self.variance[num][pixel])\n",
    "                    posterior[i].append(lhood + self.class_count[num] / 60000)\n",
    "            pred = np.argmax(posterior[i])\n",
    "            predict.append(pred)\n",
    "        return posterior, predict\n",
    "\n",
    "    def flatten(self, data):\n",
    "        flatten_data = []\n",
    "        for i in range(len(data)):\n",
    "            flatten_data.append(\n",
    "                [item for sublist in data[i] for item in sublist])\n",
    "        return flatten_data"
   ]
  },
  {
   "cell_type": "code",
   "execution_count": null,
   "metadata": {
    "ExecuteTime": {
     "start_time": "2019-03-24T03:17:38.629Z"
    }
   },
   "outputs": [],
   "source": [
    "result_con = NaiveBayes_Con(train_data, train_label)"
   ]
  },
  {
   "cell_type": "code",
   "execution_count": null,
   "metadata": {
    "ExecuteTime": {
     "start_time": "2019-03-24T03:17:38.633Z"
    }
   },
   "outputs": [],
   "source": [
    "con_post, con_pred = result_con.predict(test_data, test_label)"
   ]
  },
  {
   "cell_type": "code",
   "execution_count": null,
   "metadata": {
    "ExecuteTime": {
     "start_time": "2019-03-24T03:17:38.635Z"
    }
   },
   "outputs": [],
   "source": [
    "acc = metrics.accuracy_score(test_label, con_pred)\n",
    "print(\"Accuracy: %f\\nError rate: %f\" % (acc, 1 - acc))"
   ]
  },
  {
   "cell_type": "code",
   "execution_count": null,
   "metadata": {
    "ExecuteTime": {
     "start_time": "2019-03-24T03:17:38.642Z"
    }
   },
   "outputs": [],
   "source": [
    "print(con_post[87])"
   ]
  },
  {
   "cell_type": "code",
   "execution_count": null,
   "metadata": {},
   "outputs": [],
   "source": []
  }
 ],
 "metadata": {
  "kernelspec": {
   "display_name": "Python 3",
   "language": "python",
   "name": "python3"
  },
  "language_info": {
   "codemirror_mode": {
    "name": "ipython",
    "version": 3
   },
   "file_extension": ".py",
   "mimetype": "text/x-python",
   "name": "python",
   "nbconvert_exporter": "python",
   "pygments_lexer": "ipython3",
   "version": "3.7.1"
  }
 },
 "nbformat": 4,
 "nbformat_minor": 2
}
