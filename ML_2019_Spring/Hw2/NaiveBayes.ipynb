{
 "cells": [
  {
   "cell_type": "code",
   "execution_count": 1,
   "metadata": {
    "ExecuteTime": {
     "end_time": "2019-03-22T16:26:49.597374Z",
     "start_time": "2019-03-22T16:26:45.402303Z"
    }
   },
   "outputs": [],
   "source": [
    "import itertools\n",
    "import math\n",
    "import struct\n",
    "\n",
    "import matplotlib.pyplot as plt\n",
    "import numpy as np\n",
    "import pandas as pd\n",
    "from sklearn import metrics, preprocessing\n",
    "\n",
    "pd.options.display.max_rows = 2000\n",
    "pd.options.display.max_columns = 1000\n",
    "pd.options.display.width = 1500"
   ]
  },
  {
   "cell_type": "code",
   "execution_count": 2,
   "metadata": {
    "ExecuteTime": {
     "end_time": "2019-03-22T16:26:49.687102Z",
     "start_time": "2019-03-22T16:26:49.603327Z"
    }
   },
   "outputs": [],
   "source": [
    "def read_idx(filename):\n",
    "    with open(filename, \"rb\") as f:\n",
    "        zero, data_type, dims = struct.unpack(\">HBB\", f.read(4))\n",
    "        shape = tuple(struct.unpack(\">I\", f.read(4))[0] for d in range(dims))\n",
    "        return np.frombuffer(f.read(), dtype=np.uint8).reshape(shape)\n",
    "\n",
    "\n",
    "train_data = read_idx(\"./train-images.idx3-ubyte\")\n",
    "train_label = read_idx(\"./train-labels.idx1-ubyte\")\n",
    "test_data = read_idx(\"./t10k-images.idx3-ubyte\")\n",
    "test_label = read_idx(\"./t10k-labels.idx1-ubyte\")"
   ]
  },
  {
   "cell_type": "markdown",
   "metadata": {},
   "source": [
    "## Naive Bayes - Discrete mode\n",
    "---\n",
    "### Function of discrete mode:\n",
    "- The equation is $$\\frac{\\Pr(x|\\theta) \\Pr(\\theta)}{\\Pr(x)} = \\underset{j}{\\operatorname{argmax}} \\frac{\\sum_{i=0}^{783}\\frac{x_i}{n_{ji}} \\times \\pi_{ji}}{\\Pr(x)}$$\n",
    "- $\\pi_{ji}$ is the prior = $\\Pr[y=j] ,\\hspace{1cm} 0 \\leq j \\leq 9$"
   ]
  },
  {
   "cell_type": "code",
   "execution_count": 3,
   "metadata": {
    "ExecuteTime": {
     "end_time": "2019-03-22T16:26:49.706054Z",
     "start_time": "2019-03-22T16:26:49.689097Z"
    }
   },
   "outputs": [],
   "source": [
    "class NaiveBayes_Dis():\n",
    "    def __init__(self, train_data, train_label):\n",
    "        self.train_label = train_label\n",
    "        # How many numbers of digit 0~9\n",
    "        self.class_count = [0 for _ in range(10)]\n",
    "\n",
    "        # pixel_data[digit][pixel][bins] with pseudo count\n",
    "        self.pixel_data = [[[10**-5 for _ in range(32)]\n",
    "                            for _ in range(28 * 28)] for _ in range(10)]\n",
    "        self.__buildTrainingData(train_data)\n",
    "\n",
    "    def mapping(self, value):\n",
    "        \"\"\"\n",
    "        For discrete mode: map 0~255 to 0~31\n",
    "        \"\"\"\n",
    "        if value == 255:\n",
    "            return 31\n",
    "        else:\n",
    "            return math.floor(value / 255 * 32)\n",
    "\n",
    "    def flatten(self, data):\n",
    "        flatten_data = []\n",
    "        for i in range(len(data)):\n",
    "            flatten_data.append(\n",
    "                [item for sublist in data[i] for item in sublist])\n",
    "        return flatten_data\n",
    "\n",
    "    def __buildTrainingData(self, data):\n",
    "        \"\"\"\n",
    "        For discrete mode: parse training data and save to dis_pixel_data[digit][pixel][bin]\n",
    "        \"\"\"\n",
    "        vec = np.vectorize(self.mapping)\n",
    "        data = vec(data)\n",
    "        # flatten_data\n",
    "        flatten_data = self.flatten(data)\n",
    "        # Build class_count and pixel_data\n",
    "        # class_count[digit]\n",
    "        # pixel_data[digit][pixel][bin]\n",
    "        for i, image in enumerate(flatten_data, 0):\n",
    "            self.class_count[self.train_label[i]] += 1\n",
    "            for pixel in range(len(image)):\n",
    "                self.pixel_data[self.train_label[i]][pixel][image[pixel]] += 1\n",
    "\n",
    "    def scale(self, posterior):\n",
    "        posterior = preprocessing.minmax_scale(posterior)\n",
    "        posterior = [i / posterior.sum() for i in posterior]\n",
    "        return posterior\n",
    "\n",
    "    def predict(self, test_data, test_label):\n",
    "        vec = np.vectorize(self.mapping)\n",
    "        test_data = vec(test_data)\n",
    "        flatten_test_data = self.flatten(test_data)\n",
    "        posterior = [np.zeros(10) for _ in range(len(flatten_test_data))]\n",
    "        predict = []\n",
    "        for i, img in enumerate(flatten_test_data, 0):\n",
    "            for num in range(10):\n",
    "                for pixel in range(784):\n",
    "                    posterior[i][num] += np.log(\n",
    "                        self.pixel_data[num][pixel][img[pixel]] /\n",
    "                        self.class_count[num])\n",
    "                posterior[i][num] += np.log(self.class_count[num] / 60000)\n",
    "            predict.append(np.argmax(posterior[i]))\n",
    "        scaled_posterior = []\n",
    "        for post in posterior:\n",
    "            scaled_posterior.append(self.scale(post))\n",
    "        return scaled_posterior, predict"
   ]
  },
  {
   "cell_type": "markdown",
   "metadata": {},
   "source": [
    "### Discrete mode: accuracy evaluate and guess\n"
   ]
  },
  {
   "cell_type": "code",
   "execution_count": 4,
   "metadata": {
    "ExecuteTime": {
     "end_time": "2019-03-22T16:29:47.470565Z",
     "start_time": "2019-03-22T16:26:49.711038Z"
    }
   },
   "outputs": [],
   "source": [
    "dis_result = NaiveBayes_Dis(train_data, train_label)\n",
    "dis_post, dis_pred = dis_result.predict(test_data, test_label)"
   ]
  },
  {
   "cell_type": "code",
   "execution_count": 5,
   "metadata": {
    "ExecuteTime": {
     "end_time": "2019-03-22T16:29:47.489484Z",
     "start_time": "2019-03-22T16:29:47.471532Z"
    }
   },
   "outputs": [
    {
     "name": "stdout",
     "output_type": "stream",
     "text": [
      "Posterior (in log scale):\n",
      "0: 0.065078\n",
      "1: 0.000000\n",
      "2: 0.076065\n",
      "3: 0.109349\n",
      "4: 0.126210\n",
      "5: 0.121189\n",
      "6: 0.025718\n",
      "7: 0.193801\n",
      "8: 0.120319\n",
      "9: 0.162271\n",
      "Prediction: 7, Ans: 7\n",
      "\n",
      "Posterior (in log scale):\n",
      "0: 0.102270\n",
      "1: 0.000000\n",
      "2: 0.103122\n",
      "3: 0.135248\n",
      "4: 0.116805\n",
      "5: 0.129428\n",
      "6: 0.106576\n",
      "7: 0.103965\n",
      "8: 0.112554\n",
      "9: 0.090032\n",
      "Prediction: 3, Ans: 3\n",
      "\n",
      "Posterior (in log scale):\n",
      "0: 0.041650\n",
      "1: 0.111371\n",
      "2: 0.143103\n",
      "3: 0.147952\n",
      "4: 0.100479\n",
      "5: 0.140278\n",
      "6: 0.092488\n",
      "7: 0.000000\n",
      "8: 0.140389\n",
      "9: 0.082290\n",
      "Prediction: 3, Ans: 2\n",
      "\n",
      "Accuracy: 0.850700\n",
      "Error rate: 0.149300\n"
     ]
    }
   ],
   "source": [
    "def discrete_output():\n",
    "    # test cases\n",
    "    for index in [0, 87, 456]:\n",
    "        print(\"Posterior (in log scale):\")\n",
    "        for i in range(10):\n",
    "            print(\"%d: %f\" % (i, dis_post[index][i]))\n",
    "        print(\"Prediction: %d, Ans: %d\" % (dis_pred[index], test_label[index]))\n",
    "        print(\"\")\n",
    "    acc = metrics.accuracy_score(test_label, dis_pred)\n",
    "    print(\"Accuracy: %f\\nError rate: %f\" % (acc, 1 - acc))\n",
    "\n",
    "\n",
    "discrete_output()"
   ]
  },
  {
   "cell_type": "code",
   "execution_count": 7,
   "metadata": {
    "ExecuteTime": {
     "end_time": "2019-03-22T16:30:08.443346Z",
     "start_time": "2019-03-22T16:30:08.415421Z"
    },
    "scrolled": true
   },
   "outputs": [
    {
     "name": "stdout",
     "output_type": "stream",
     "text": [
      "Guess 3\n",
      "     0   1   2   3   4   5   6   7   8   9   10  11  12  13  14  15  16  17  18  19  20  21  22  23  24  25  26  27\n",
      "0    0   0   0   0   0   0   0   0   0   0   0   0   0   0   0   0   0   0   0   0   0   0   0   0   0   0   0   0\n",
      "1    0   0   0   0   0   0   0   0   0   0   0   0   0   0   0   0   0   0   0   0   0   0   0   0   0   0   0   0\n",
      "2    0   0   0   0   0   0   0   0   0   0   0   0   0   0   0   0   0   0   0   0   0   0   0   0   0   0   0   0\n",
      "3    0   0   0   0   0   0   0   0   0   0   0   0   0   0   0   0   0   0   0   0   0   0   0   0   0   0   0   0\n",
      "4    0   0   0   0   0   0   0   0   0   0   0   0   0   0   0   0   0   0   0   0   0   0   0   0   0   0   0   0\n",
      "5    0   0   0   0   0   0   0   0   0   0   0   0   1   1   1   1   1   0   0   0   0   0   0   0   0   0   0   0\n",
      "6    0   0   0   0   0   0   0   0   0   0   1   1   1   1   1   1   1   1   0   0   0   0   0   0   0   0   0   0\n",
      "7    0   0   0   0   0   0   0   0   0   0   0   1   1   1   1   1   1   1   1   0   0   0   0   0   0   0   0   0\n",
      "8    0   0   0   0   0   0   0   0   0   0   0   0   0   0   0   0   1   1   1   0   0   0   0   0   0   0   0   0\n",
      "9    0   0   0   0   0   0   0   0   0   0   0   0   0   0   0   0   1   1   1   0   0   0   0   0   0   0   0   0\n",
      "10   0   0   0   0   0   0   0   0   0   0   0   0   0   0   0   1   1   1   0   0   0   0   0   0   0   0   0   0\n",
      "11   0   0   0   0   0   0   0   0   0   0   0   0   0   0   1   1   1   1   0   0   0   0   0   0   0   0   0   0\n",
      "12   0   0   0   0   0   0   0   0   0   0   0   0   1   1   1   1   1   1   0   0   0   0   0   0   0   0   0   0\n",
      "13   0   0   0   0   0   0   0   0   0   0   0   1   1   1   1   1   1   1   0   0   0   0   0   0   0   0   0   0\n",
      "14   0   0   0   0   0   0   0   0   0   0   0   1   1   1   1   1   1   1   1   0   0   0   0   0   0   0   0   0\n",
      "15   0   0   0   0   0   0   0   0   0   0   0   0   0   0   0   0   0   1   1   0   0   0   0   0   0   0   0   0\n",
      "16   0   0   0   0   0   0   0   0   0   0   0   0   0   0   0   0   0   0   1   1   0   0   0   0   0   0   0   0\n",
      "17   0   0   0   0   0   0   0   0   0   0   0   0   0   0   0   0   0   0   1   1   0   0   0   0   0   0   0   0\n",
      "18   0   0   0   0   0   0   0   0   0   0   0   0   0   0   0   0   0   0   1   1   0   0   0   0   0   0   0   0\n",
      "19   0   0   0   0   0   0   0   0   0   0   0   0   0   0   0   0   0   1   1   0   0   0   0   0   0   0   0   0\n",
      "20   0   0   0   0   0   0   0   0   0   0   0   0   0   0   0   0   1   1   1   0   0   0   0   0   0   0   0   0\n",
      "21   0   0   0   0   0   0   0   0   0   0   0   0   0   1   1   1   1   1   0   0   0   0   0   0   0   0   0   0\n",
      "22   0   0   0   0   0   0   0   0   1   1   1   1   1   1   1   1   1   0   0   0   0   0   0   0   0   0   0   0\n",
      "23   0   0   0   0   0   0   0   0   0   1   1   1   1   1   1   0   0   0   0   0   0   0   0   0   0   0   0   0\n",
      "24   0   0   0   0   0   0   0   0   0   0   0   0   0   0   0   0   0   0   0   0   0   0   0   0   0   0   0   0\n",
      "25   0   0   0   0   0   0   0   0   0   0   0   0   0   0   0   0   0   0   0   0   0   0   0   0   0   0   0   0\n",
      "26   0   0   0   0   0   0   0   0   0   0   0   0   0   0   0   0   0   0   0   0   0   0   0   0   0   0   0   0\n",
      "27   0   0   0   0   0   0   0   0   0   0   0   0   0   0   0   0   0   0   0   0   0   0   0   0   0   0   0   0\n"
     ]
    }
   ],
   "source": [
    "def discrete_guess():\n",
    "    guess = []\n",
    "    for digit, pixel_bin in enumerate(dis_result.pixel_data, 1):\n",
    "        digit = []\n",
    "        for bins in pixel_bin:\n",
    "            digit.append(int(sum(bins[0:16]) <= sum(bins[16:])))\n",
    "        digit = np.reshape(digit, (28, 28))\n",
    "        guess.append(digit)\n",
    "    return guess\n",
    "\n",
    "\n",
    "discrete_guess = discrete_guess()\n",
    "guess_num = 3\n",
    "print(\"Guess %d\\n\" % guess_num, pd.DataFrame(discrete_guess[guess_num]))"
   ]
  },
  {
   "cell_type": "code",
   "execution_count": 8,
   "metadata": {
    "ExecuteTime": {
     "end_time": "2019-03-22T16:30:13.581287Z",
     "start_time": "2019-03-22T16:30:12.686072Z"
    }
   },
   "outputs": [
    {
     "data": {
      "image/png": "[encoded data removed]",
      "text/plain": [
       "<Figure size 576x576 with 10 Axes>"
      ]
     },
     "metadata": {
      "needs_background": "light"
     },
     "output_type": "display_data"
    }
   ],
   "source": [
    "fig = plt.figure(figsize=(8, 8))\n",
    "for num in range(10):\n",
    "    sub = fig.add_subplot(2, 5, num + 1)\n",
    "    sub.imshow(discrete_guess[num], cmap=\"Greys\")\n",
    "plt.tight_layout()\n",
    "plt.show()"
   ]
  },
  {
   "cell_type": "markdown",
   "metadata": {},
   "source": [
    "## Naive Bayes - Continuous mode\n",
    "---"
   ]
  },
  {
   "cell_type": "code",
   "execution_count": null,
   "metadata": {},
   "outputs": [],
   "source": []
  }
 ],
 "metadata": {
  "kernelspec": {
   "display_name": "Python 3",
   "language": "python",
   "name": "python3"
  },
  "language_info": {
   "codemirror_mode": {
    "name": "ipython",
    "version": 3
   },
   "file_extension": ".py",
   "mimetype": "text/x-python",
   "name": "python",
   "nbconvert_exporter": "python",
   "pygments_lexer": "ipython3",
   "version": "3.7.1"
  },
  "varInspector": {
   "cols": {
    "lenName": 16,
    "lenType": 16,
    "lenVar": 40
   },
   "kernels_config": {
    "python": {
     "delete_cmd_postfix": "",
     "delete_cmd_prefix": "del ",
     "library": "var_list.py",
     "varRefreshCmd": "print(var_dic_list())"
    },
    "r": {
     "delete_cmd_postfix": ") ",
     "delete_cmd_prefix": "rm(",
     "library": "var_list.r",
     "varRefreshCmd": "cat(var_dic_list()) "
    }
   },
   "oldHeight": 401,
   "position": {
    "height": "423px",
    "left": "1433px",
    "right": "20px",
    "top": "66px",
    "width": "450px"
   },
   "types_to_exclude": [
    "module",
    "function",
    "builtin_function_or_method",
    "instance",
    "_Feature"
   ],
   "varInspector_section_display": "block",
   "window_display": true
  }
 },
 "nbformat": 4,
 "nbformat_minor": 2
}
