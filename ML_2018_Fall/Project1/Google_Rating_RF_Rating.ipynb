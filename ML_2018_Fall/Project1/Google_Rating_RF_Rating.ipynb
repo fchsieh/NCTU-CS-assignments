{
 "cells": [
  {
   "cell_type": "code",
   "execution_count": 1,
   "metadata": {},
   "outputs": [],
   "source": [
    "### Import and Global vars ###\n",
    "\n",
    "# Commonly used module\n",
    "import numpy as np\n",
    "import pandas as pd\n",
    "\n",
    "# For build decision tree\n",
    "from sklearn import tree\n",
    "from sklearn.model_selection import train_test_split\n",
    "from sklearn.metrics import accuracy_score, r2_score\n",
    "from sklearn.utils import *\n",
    "\n",
    "# For calculating combination\n",
    "import math\n",
    "import itertools\n",
    "\n",
    "review_data = pd.read_csv(\"./preprocessed_googleplaystore.csv\", usecols=[\"Price\", \"Installs\", \"Reviews\", \"Rating\"])\n"
   ]
  },
  {
   "cell_type": "code",
   "execution_count": 2,
   "metadata": {},
   "outputs": [],
   "source": [
    "### Cut NaN data ###\n",
    "\n",
    "review_data = review_data.dropna(axis=0, how=\"any\")\n"
   ]
  },
  {
   "cell_type": "code",
   "execution_count": 3,
   "metadata": {},
   "outputs": [],
   "source": [
    "### Split data to training \n",
    "\n",
    "all_feature = [\"Price\", \"Installs\", \"Reviews\"]\n",
    "x = review_data[all_feature]\n",
    "y = review_data[\"Rating\"]\n",
    "\n",
    "# Set random_state to 42 for testing (will get same training set)\n",
    "# Set None for using random seed\n",
    "x_train, x_test, y_train, y_test = train_test_split(x, y, test_size=0.3, random_state=None)\n",
    "\n",
    "# Concat training data first\n",
    "train = pd.concat([x_train, y_train], axis=1)\n"
   ]
  },
  {
   "cell_type": "code",
   "execution_count": 4,
   "metadata": {},
   "outputs": [],
   "source": [
    "### Generate subsample for Building multiple trees ###\n",
    "### By resampling training dataset ###\n",
    "\n",
    "def BootstrapResample(train_data):\n",
    "    n = len(train_data)\n",
    "    resample_i = np.floor(np.random.rand(n)*len(train_data)).astype(int)\n",
    "    train_resampled = train.iloc[resample_i]\n",
    "    df_train = pd.DataFrame(train_resampled, columns=(review_data.columns))\n",
    "    return df_train\n"
   ]
  },
  {
   "cell_type": "code",
   "execution_count": 5,
   "metadata": {},
   "outputs": [],
   "source": [
    "### Randomly select features for building random tree ###\n",
    "\n",
    "def nCr(n,r):\n",
    "    f = math.factorial\n",
    "    return f(n) // f(r) // f(n-r)\n",
    "\n",
    "# All posible feature selections to select\n",
    "feature_list = all_feature\n",
    "select_list = []\n",
    "\n",
    "for L in range(1, len(feature_list)+1):\n",
    "    for subset in itertools.combinations(feature_list, L):\n",
    "        select_list.append(list(subset))\n"
   ]
  },
  {
   "cell_type": "code",
   "execution_count": 6,
   "metadata": {},
   "outputs": [],
   "source": [
    "### Build decision tree ###\n",
    "\n",
    "def DecisionTree(train_data, feature_selected):\n",
    "    # First separate feature and target\n",
    "    train_x = train_data[feature_selected]\n",
    "    train_y = train_data.loc[:, \"Rating\"]\n",
    "    rgr = tree.DecisionTreeRegressor(criterion=\"mse\", max_depth=2, random_state=None)\n",
    "    review_rgr = rgr.fit(train_x, train_y)\n",
    "    return review_rgr\n"
   ]
  },
  {
   "cell_type": "code",
   "execution_count": 7,
   "metadata": {},
   "outputs": [],
   "source": [
    "### Build Random Forest ###\n",
    "\n",
    "pred_list = []\n",
    "\n",
    "# Build 100 trees\n",
    "for i in range(100):\n",
    "    # Randomly select features and resample\n",
    "    rng = np.random.randint(0, len(feature_list))\n",
    "    select = select_list[rng]\n",
    "    \n",
    "    train_data = train[select]\n",
    "    single_tree_train = BootstrapResample(train_data)\n",
    "    \n",
    "    # test data also need to be reshaped\n",
    "    x_test_reshaped = x_test[select]\n",
    "    \n",
    "    # Build tree\n",
    "    clr = DecisionTree(single_tree_train, select)\n",
    "    y_pred = clr.predict(x_test_reshaped)\n",
    "    \n",
    "    # First iteration, build empty 2d-list\n",
    "    if(i == 0):\n",
    "        for j in range(len(x_test)):\n",
    "            pred_list.append([y_pred[j]])\n",
    "    else:\n",
    "        for j in range(len(x_test)):\n",
    "            pred_list[j].append(y_pred[j])\n"
   ]
  },
  {
   "cell_type": "code",
   "execution_count": 8,
   "metadata": {},
   "outputs": [],
   "source": [
    "### Vote result for each data row ###\n",
    "\n",
    "vote_list = []\n",
    "\n",
    "def VoteResult(lst):\n",
    "    return max(lst, key=lst.count)\n",
    "    \n",
    "for lst in pred_list:\n",
    "    vote_list.append(VoteResult(lst))\n"
   ]
  },
  {
   "cell_type": "code",
   "execution_count": 9,
   "metadata": {},
   "outputs": [
    {
     "name": "stdout",
     "output_type": "stream",
     "text": [
      "Evaluate by r2-score: 0.03158364734336083\n"
     ]
    }
   ],
   "source": [
    "### Evaluate accuracy of RF ###\n",
    "\n",
    "print(\"Evaluate by r2-score: \", end=\"\")\n",
    "print(r2_score(y_test, vote_list))\n"
   ]
  }
 ],
 "metadata": {
  "kernelspec": {
   "display_name": "Python 3",
   "language": "python",
   "name": "python3"
  },
  "language_info": {
   "codemirror_mode": {
    "name": "ipython",
    "version": 3
   },
   "file_extension": ".py",
   "mimetype": "text/x-python",
   "name": "python",
   "nbconvert_exporter": "python",
   "pygments_lexer": "ipython3",
   "version": "3.6.5"
  }
 },
 "nbformat": 4,
 "nbformat_minor": 2
}
